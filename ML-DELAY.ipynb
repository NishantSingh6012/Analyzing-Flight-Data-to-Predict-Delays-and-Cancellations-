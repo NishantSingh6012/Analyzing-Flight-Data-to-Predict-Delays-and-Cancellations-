{
 "cells": [
  {
   "cell_type": "markdown",
   "metadata": {
    "application/vnd.databricks.v1+cell": {
     "cellMetadata": {
      "byteLimit": 2048000,
      "rowLimit": 10000
     },
     "inputWidgets": {},
     "nuid": "e6bd5637-b8de-4cc1-8821-192fa7689e7c",
     "showTitle": false,
     "title": ""
    }
   },
   "source": [
    "In this notebook we are trying to predict the Departure delay of the flights using machine learning models such as linear regression, random Forest regressor and decision tree regressor"
   ]
  },
  {
   "cell_type": "code",
   "execution_count": 0,
   "metadata": {
    "application/vnd.databricks.v1+cell": {
     "cellMetadata": {
      "byteLimit": 2048000,
      "rowLimit": 10000
     },
     "inputWidgets": {},
     "nuid": "21fb11f8-a31c-4ae3-83f9-d4375fa3c02e",
     "showTitle": false,
     "title": ""
    }
   },
   "outputs": [],
   "source": [
    "from pyspark.sql import SparkSession\n",
    "from pyspark.sql import functions as F\n",
    "\n",
    "spark = SparkSession.builder.getOrCreate()\n",
    "\n",
    "spark = (SparkSession\n",
    ".builder\n",
    ".appName(\"ML-delay\")\n",
    ".getOrCreate()\n",
    ")"
   ]
  },
  {
   "cell_type": "code",
   "execution_count": 0,
   "metadata": {
    "application/vnd.databricks.v1+cell": {
     "cellMetadata": {
      "byteLimit": 2048000,
      "rowLimit": 10000
     },
     "inputWidgets": {},
     "nuid": "8b3912b8-5b21-4259-b470-b6b2fad27329",
     "showTitle": false,
     "title": ""
    }
   },
   "outputs": [
    {
     "output_type": "display_data",
     "data": {
      "application/vnd.databricks.v1+bamboolib_hint": "{\"pd.DataFrames\": [], \"version\": \"0.0.1\"}",
      "text/plain": []
     },
     "metadata": {},
     "output_type": "display_data"
    }
   ],
   "source": [
    "import pandas\n",
    "import seaborn as sns\n",
    "from pyspark.sql.functions import col\n",
    "from pyspark.ml import Pipeline\n",
    "import matplotlib.pyplot as plt"
   ]
  },
  {
   "cell_type": "code",
   "execution_count": 0,
   "metadata": {
    "application/vnd.databricks.v1+cell": {
     "cellMetadata": {
      "byteLimit": 2048000,
      "rowLimit": 10000
     },
     "inputWidgets": {},
     "nuid": "d8ae9f42-23f1-496b-a57e-237bb50fe421",
     "showTitle": false,
     "title": ""
    }
   },
   "outputs": [],
   "source": [
    "flight_file_path = \"dbfs:/FileStore/shared_uploads/nsingh17@stevens.edu/Airlines Airports Cancellation Codes & Flights/flights.csv\"\n",
    "flights = spark.read.csv(flight_file_path, header=True, inferSchema=True)"
   ]
  },
  {
   "cell_type": "code",
   "execution_count": 0,
   "metadata": {
    "application/vnd.databricks.v1+cell": {
     "cellMetadata": {
      "byteLimit": 2048000,
      "rowLimit": 10000
     },
     "inputWidgets": {},
     "nuid": "febd494a-763e-4fe3-aa45-acda2c37709c",
     "showTitle": false,
     "title": ""
    }
   },
   "outputs": [
    {
     "output_type": "stream",
     "name": "stdout",
     "output_type": "stream",
     "text": [
      "+-----+---+-----------+-------+--------------+-------------------+--------+-------------------+---------------+\n|MONTH|DAY|DAY_OF_WEEK|AIRLINE|ORIGIN_AIRPORT|DESTINATION_AIRPORT|DISTANCE|SCHEDULED_DEPARTURE|DEPARTURE_DELAY|\n+-----+---+-----------+-------+--------------+-------------------+--------+-------------------+---------------+\n|    1|  1|          4|     AS|           ANC|                SEA|    1448|                  5|            -11|\n|    1|  1|          4|     AA|           LAX|                PBI|    2330|                 10|             -8|\n|    1|  1|          4|     US|           SFO|                CLT|    2296|                 20|             -2|\n|    1|  1|          4|     AA|           LAX|                MIA|    2342|                 20|             -5|\n|    1|  1|          4|     AS|           SEA|                ANC|    1448|                 25|             -1|\n|    1|  1|          4|     DL|           SFO|                MSP|    1589|                 25|             -5|\n|    1|  1|          4|     NK|           LAS|                MSP|    1299|                 25|             -6|\n|    1|  1|          4|     US|           LAX|                CLT|    2125|                 30|             14|\n|    1|  1|          4|     AA|           SFO|                DFW|    1464|                 30|            -11|\n|    1|  1|          4|     DL|           LAS|                ATL|    1747|                 30|              3|\n|    1|  1|          4|     DL|           DEN|                ATL|    1199|                 30|             -6|\n|    1|  1|          4|     AA|           LAS|                MIA|    2174|                 35|             -8|\n|    1|  1|          4|     DL|           LAX|                MSP|    1535|                 35|              0|\n|    1|  1|          4|     DL|           SLC|                ATL|    1590|                 40|             -6|\n|    1|  1|          4|     DL|           SEA|                MSP|    1399|                 40|             -1|\n|    1|  1|          4|     AS|           ANC|                SEA|    1448|                 45|             -4|\n|    1|  1|          4|     DL|           ANC|                SEA|    1448|                 45|            -14|\n|    1|  1|          4|     UA|           SFO|                IAH|    1635|                 48|             -6|\n|    1|  1|          4|     AS|           ANC|                PDX|    1542|                 50|             -4|\n|    1|  1|          4|     DL|           PDX|                MSP|    1426|                 50|             -5|\n+-----+---+-----------+-------+--------------+-------------------+--------+-------------------+---------------+\nonly showing top 20 rows\n\n"
     ]
    }
   ],
   "source": [
    "data = flights.select('MONTH','DAY','DAY_OF_WEEK','AIRLINE','ORIGIN_AIRPORT','DESTINATION_AIRPORT','DISTANCE','SCHEDULED_DEPARTURE','DEPARTURE_DELAY')\n",
    "data.show()"
   ]
  },
  {
   "cell_type": "code",
   "execution_count": 0,
   "metadata": {
    "application/vnd.databricks.v1+cell": {
     "cellMetadata": {
      "byteLimit": 2048000,
      "rowLimit": 10000
     },
     "inputWidgets": {},
     "nuid": "50cc62d7-a3cf-48bf-bfb6-68b7bc9daac7",
     "showTitle": false,
     "title": ""
    }
   },
   "outputs": [],
   "source": [
    "numericColumns = [\n",
    "    'DISTANCE',\n",
    "    'SCHEDULED_DEPARTURE'\n",
    "]\n",
    "\n",
    "target = ['DEPARTURE_DELAY']\n",
    "\n",
    "categoricalColumns = [\n",
    "    'MONTH',\n",
    "    'DAY',\n",
    "    'DAY_OF_WEEK',\n",
    "    'AIRLINE',\n",
    "    'ORIGIN_AIRPORT',\n",
    "    'DESTINATION_AIRPORT'\n",
    "]"
   ]
  },
  {
   "cell_type": "code",
   "execution_count": 0,
   "metadata": {
    "application/vnd.databricks.v1+cell": {
     "cellMetadata": {
      "byteLimit": 2048000,
      "rowLimit": 10000
     },
     "inputWidgets": {},
     "nuid": "b9a9bb47-0673-4949-99b2-e6baa16d8b15",
     "showTitle": false,
     "title": ""
    }
   },
   "outputs": [],
   "source": [
    "from pyspark.ml.feature import  VectorAssembler,StandardScaler,StringIndexer, OneHotEncoder\n",
    "\n",
    "# Define string indexer for each string column\n",
    "indexer1 = StringIndexer(inputCol=\"ORIGIN_AIRPORT\", outputCol=\"ORIGIN_AIRPORT_indx\")\n",
    "indexer2 = StringIndexer(inputCol=\"DESTINATION_AIRPORT\", outputCol=\"DESTINATION_AIRPORT_indx\")\n",
    "indexer3 = StringIndexer(inputCol=\"AIRLINE\", outputCol=\"AIRLINE_indx\")\n",
    "\n",
    "vector_assembler = VectorAssembler(inputCols=['MONTH','DAY','DAY_OF_WEEK','AIRLINE_indx','ORIGIN_AIRPORT_indx','DESTINATION_AIRPORT_indx','DISTANCE','SCHEDULED_DEPARTURE'], outputCol=\"features\")"
   ]
  },
  {
   "cell_type": "markdown",
   "metadata": {
    "application/vnd.databricks.v1+cell": {
     "cellMetadata": {
      "byteLimit": 2048000,
      "rowLimit": 10000
     },
     "inputWidgets": {},
     "nuid": "9e30a1e7-4e54-4be7-8990-bc6830f793c6",
     "showTitle": false,
     "title": ""
    }
   },
   "source": [
    "now for scaling the data we first took 30% of data and trained the model.\n",
    "After that we went on to increase the data to 50%, then 70% and lastly taking 100% of data"
   ]
  },
  {
   "cell_type": "code",
   "execution_count": 0,
   "metadata": {
    "application/vnd.databricks.v1+cell": {
     "cellMetadata": {
      "byteLimit": 2048000,
      "rowLimit": 10000
     },
     "inputWidgets": {},
     "nuid": "ef146377-cce7-4b6e-8423-521639495302",
     "showTitle": false,
     "title": ""
    }
   },
   "outputs": [],
   "source": [
    "# Sample 30% of the data without replacement\n",
    "sampled_data30 = data.sample(withReplacement=False, fraction=0.3)\n",
    "\n",
    "# Sample 50% of the data without replacement\n",
    "sampled_data50 = data.sample(withReplacement=False, fraction=0.5)\n",
    "\n",
    "# Sample 70% of the data without replacement\n",
    "sampled_data70 = data.sample(withReplacement=False, fraction=0.7)\n"
   ]
  },
  {
   "cell_type": "code",
   "execution_count": 0,
   "metadata": {
    "application/vnd.databricks.v1+cell": {
     "cellMetadata": {
      "byteLimit": 2048000,
      "rowLimit": 10000
     },
     "inputWidgets": {},
     "nuid": "2530a399-03b3-485c-8c38-2eaebd6de72b",
     "showTitle": false,
     "title": ""
    }
   },
   "outputs": [],
   "source": [
    "# Create a Pipeline\n",
    "pipeline = Pipeline(stages=[indexer1, indexer2,indexer3, vector_assembler])\n",
    "\n",
    "# Fit the pipeline to the DataFrame\n",
    "pipeline_model = pipeline.fit(sampled_data50)"
   ]
  },
  {
   "cell_type": "code",
   "execution_count": 0,
   "metadata": {
    "application/vnd.databricks.v1+cell": {
     "cellMetadata": {
      "byteLimit": 2048000,
      "rowLimit": 10000
     },
     "inputWidgets": {},
     "nuid": "9cac5923-cc94-4f5d-828c-a53dbe2ffa9c",
     "showTitle": false,
     "title": ""
    }
   },
   "outputs": [],
   "source": [
    "# Transform the DataFrame\n",
    "transformed_df = pipeline_model.transform(sampled_data30)\n",
    "\n",
    "# Show the transformed DataFrame\n",
    "transformed_df.show()"
   ]
  },
  {
   "cell_type": "code",
   "execution_count": 0,
   "metadata": {
    "application/vnd.databricks.v1+cell": {
     "cellMetadata": {
      "byteLimit": 2048000,
      "rowLimit": 10000
     },
     "inputWidgets": {},
     "nuid": "c0e67203-22e6-4688-9637-ea7aab423ab6",
     "showTitle": false,
     "title": ""
    }
   },
   "outputs": [],
   "source": [
    "#Splitting the data\n",
    "ml_data = transformed_df.select('features','DEPARTURE_DELAY')\n",
    "ml_data = ml_data.fillna(0)\n",
    "train_df, test_df = ml_data.randomSplit([0.7,0.3],seed=42)"
   ]
  },
  {
   "cell_type": "code",
   "execution_count": 0,
   "metadata": {
    "application/vnd.databricks.v1+cell": {
     "cellMetadata": {
      "byteLimit": 2048000,
      "rowLimit": 10000
     },
     "inputWidgets": {},
     "nuid": "e4266bd3-66bd-4fbd-afbf-4d83c395797f",
     "showTitle": false,
     "title": ""
    }
   },
   "outputs": [],
   "source": [
    "spark = (SparkSession\n",
    ".builder\n",
    ".appName(\"LinearRegressionTrain\")\n",
    ".getOrCreate()\n",
    ")"
   ]
  },
  {
   "cell_type": "code",
   "execution_count": 0,
   "metadata": {
    "application/vnd.databricks.v1+cell": {
     "cellMetadata": {
      "byteLimit": 2048000,
      "rowLimit": 10000
     },
     "inputWidgets": {},
     "nuid": "cb15d0f8-8fe6-4653-b6b9-b288ddc6b8d8",
     "showTitle": false,
     "title": ""
    }
   },
   "outputs": [],
   "source": [
    "from pyspark.ml.regression import LinearRegression\n",
    "\n",
    "# Initialize the Linear Regression model\n",
    "lr = LinearRegression(featuresCol='features', labelCol='DEPARTURE_DELAY')\n",
    "\n",
    "# Train the model\n",
    "lr_model = lr.fit(train_df)"
   ]
  },
  {
   "cell_type": "code",
   "execution_count": 0,
   "metadata": {
    "application/vnd.databricks.v1+cell": {
     "cellMetadata": {
      "byteLimit": 2048000,
      "rowLimit": 10000
     },
     "inputWidgets": {},
     "nuid": "88eeeeb6-db24-4301-89a3-9cbbd35efd5c",
     "showTitle": false,
     "title": ""
    }
   },
   "outputs": [],
   "source": [
    "predictions = lr_model.transform(test_df)"
   ]
  },
  {
   "cell_type": "code",
   "execution_count": 0,
   "metadata": {
    "application/vnd.databricks.v1+cell": {
     "cellMetadata": {
      "byteLimit": 2048000,
      "rowLimit": 10000
     },
     "inputWidgets": {},
     "nuid": "a9d44804-548a-4331-b46c-171eae999327",
     "showTitle": false,
     "title": ""
    }
   },
   "outputs": [],
   "source": [
    "spark = (SparkSession\n",
    ".builder\n",
    ".appName(\"LinearRegressionEval\")\n",
    ".getOrCreate()\n",
    ")"
   ]
  },
  {
   "cell_type": "code",
   "execution_count": 0,
   "metadata": {
    "application/vnd.databricks.v1+cell": {
     "cellMetadata": {
      "byteLimit": 2048000,
      "rowLimit": 10000
     },
     "inputWidgets": {},
     "nuid": "4146ff53-c147-4024-9453-5b626e58553d",
     "showTitle": false,
     "title": ""
    }
   },
   "outputs": [
    {
     "output_type": "stream",
     "name": "stdout",
     "output_type": "stream",
     "text": [
      "Root Mean Squared Error (RMSE) on test data = 36.74022040537631\nMean Absolute Error (MAE) on test data = 18.08051140372117\nR-squared (R²) on test data = 0.014796316901298567\n"
     ]
    }
   ],
   "source": [
    "from pyspark.ml.evaluation import RegressionEvaluator\n",
    "\n",
    "# Evaluate the model\n",
    "evaluator_rmse = RegressionEvaluator(labelCol=\"DEPARTURE_DELAY\", predictionCol=\"prediction\", metricName=\"rmse\")\n",
    "evaluator_mae = RegressionEvaluator(labelCol=\"DEPARTURE_DELAY\", predictionCol=\"prediction\", metricName=\"mae\")\n",
    "evaluator_r2 = RegressionEvaluator(labelCol=\"DEPARTURE_DELAY\", predictionCol=\"prediction\", metricName=\"r2\")\n",
    "\n",
    "rmse = evaluator_rmse.evaluate(predictions)\n",
    "mae = evaluator_mae.evaluate(predictions)\n",
    "r2 = evaluator_r2.evaluate(predictions)\n",
    "\n",
    "print(\"Root Mean Squared Error (RMSE) on test data =\", rmse)\n",
    "print(\"Mean Absolute Error (MAE) on test data =\", mae)\n",
    "print(\"R-squared (R²) on test data =\", r2)"
   ]
  },
  {
   "cell_type": "markdown",
   "metadata": {
    "application/vnd.databricks.v1+cell": {
     "cellMetadata": {
      "byteLimit": 2048000,
      "rowLimit": 10000
     },
     "inputWidgets": {},
     "nuid": "efe62166-29f5-42a3-804a-4e2ddff45316",
     "showTitle": false,
     "title": ""
    }
   },
   "source": [
    "Root Mean Squared Error (RMSE): The RMSE of 36.812 suggests that, on average, the predictions are off by approximately 36.81 minutes. This indicates a moderate level of error in the model's predictions.\n",
    "\n",
    "Mean Absolute Error (MAE): The MAE of 18.03 suggests that, on average, the absolute error of the predictions is about 18.03 minutes. This indicates that the model's predictions are reasonably close to the actual values but still have a noticeable error margin.\n",
    "\n",
    "R-squared (R²): The R² value of 0.014 indicates that only about 1.4% of the variance in departure delays is explained by the model. This suggests that the model has limited predictive power and there are likely other factors influencing departure delays that are not captured by the features used in this model."
   ]
  },
  {
   "cell_type": "code",
   "execution_count": 0,
   "metadata": {
    "application/vnd.databricks.v1+cell": {
     "cellMetadata": {
      "byteLimit": 2048000,
      "rowLimit": 10000
     },
     "inputWidgets": {},
     "nuid": "27c1f938-6de5-4319-b1a2-8eb4623c06c9",
     "showTitle": false,
     "title": ""
    }
   },
   "outputs": [],
   "source": [
    "from pyspark.sql.functions import monotonically_increasing_id\n",
    "df_with_index = predictions.withColumn(\"index\", monotonically_increasing_id())\n",
    "\n",
    "panda_df = df_with_index.toPandas()\n",
    "# sns.set(style=\"whitegrid\")\n",
    "\n",
    "plt.figure(figsize=(10, 6))\n",
    "plt.scatter(panda_df['index'], panda_df['prediction'],color = 'red')\n",
    "plt.title('PREDICTED')\n",
    "\n",
    "plt.show()"
   ]
  },
  {
   "cell_type": "code",
   "execution_count": 0,
   "metadata": {
    "application/vnd.databricks.v1+cell": {
     "cellMetadata": {
      "byteLimit": 2048000,
      "rowLimit": 10000
     },
     "inputWidgets": {},
     "nuid": "ac551d62-4c54-4429-9253-41e435a5f485",
     "showTitle": false,
     "title": ""
    }
   },
   "outputs": [],
   "source": [
    "df_with_index = predictions.withColumn(\"index\", monotonically_increasing_id())\n",
    "\n",
    "panda_df = df_with_index.toPandas()\n",
    "\n",
    "plt.figure(figsize=(10, 6))\n",
    "plt.scatter(panda_df['index'], panda_df['DEPARTURE_DELAY'],color = 'red')\n",
    "plt.title('ACTUAL')\n",
    "plt.show()"
   ]
  },
  {
   "cell_type": "code",
   "execution_count": 0,
   "metadata": {
    "application/vnd.databricks.v1+cell": {
     "cellMetadata": {
      "byteLimit": 2048000,
      "rowLimit": 10000
     },
     "inputWidgets": {},
     "nuid": "3b1cab47-380a-4608-ba38-0711eaea13e1",
     "showTitle": false,
     "title": ""
    }
   },
   "outputs": [],
   "source": [
    "from pyspark.sql.functions import monotonically_increasing_id\n",
    "\n",
    "df_with_index = predictions.withColumn(\"index\", monotonically_increasing_id())\n",
    "panda_df = df_with_index.toPandas()\n",
    "\n",
    "import matplotlib.pyplot as plt\n",
    "\n",
    "plt.figure(figsize=(10, 6))\n",
    "plt.scatter(panda_df['index'], panda_df['DEPARTURE_DELAY'], color='blue', label='Actual', alpha=0.5)\n",
    "plt.scatter(panda_df['index'], panda_df['prediction'], color='red', label='Predicted', alpha=0.5)\n",
    "plt.title('Actual vs. Predicted Departure Delays')\n",
    "plt.xlabel('Index')\n",
    "plt.ylabel('Departure Delay')\n",
    "plt.legend()\n",
    "plt.show()"
   ]
  },
  {
   "cell_type": "code",
   "execution_count": 0,
   "metadata": {
    "application/vnd.databricks.v1+cell": {
     "cellMetadata": {
      "byteLimit": 2048000,
      "rowLimit": 10000
     },
     "inputWidgets": {},
     "nuid": "eaa228eb-6825-423d-9df0-e4641616a9b4",
     "showTitle": false,
     "title": ""
    }
   },
   "outputs": [],
   "source": [
    "spark = (SparkSession\n",
    ".builder\n",
    ".appName(\"RandomForestRegressorTrain\")\n",
    ".getOrCreate()\n",
    ")"
   ]
  },
  {
   "cell_type": "code",
   "execution_count": 0,
   "metadata": {
    "application/vnd.databricks.v1+cell": {
     "cellMetadata": {
      "byteLimit": 2048000,
      "rowLimit": 10000
     },
     "inputWidgets": {},
     "nuid": "bb65d04f-fa15-468a-92cd-3edfe9b79d6a",
     "showTitle": false,
     "title": ""
    }
   },
   "outputs": [],
   "source": [
    "from pyspark.ml.regression import RandomForestRegressor\n",
    "from pyspark.ml.evaluation import RegressionEvaluator\n",
    "\n",
    "\n",
    "# Initialize the RandomForestRegressor\n",
    "rf = RandomForestRegressor(featuresCol=\"features\", labelCol=\"DEPARTURE_DELAY\",maxBins=700, seed=42)\n",
    "\n",
    "# Train the model\n",
    "model = rf.fit(train_df)\n",
    "\n",
    "\n"
   ]
  },
  {
   "cell_type": "code",
   "execution_count": 0,
   "metadata": {
    "application/vnd.databricks.v1+cell": {
     "cellMetadata": {
      "byteLimit": 2048000,
      "rowLimit": 10000
     },
     "inputWidgets": {},
     "nuid": "9106eab5-a1b4-454f-9876-19e3d321f962",
     "showTitle": false,
     "title": ""
    }
   },
   "outputs": [],
   "source": [
    "spark = (SparkSession\n",
    ".builder\n",
    ".appName(\"RandomForestRegressorEval\")\n",
    ".getOrCreate()\n",
    ")"
   ]
  },
  {
   "cell_type": "code",
   "execution_count": 0,
   "metadata": {
    "application/vnd.databricks.v1+cell": {
     "cellMetadata": {
      "byteLimit": 2048000,
      "rowLimit": 10000
     },
     "inputWidgets": {},
     "nuid": "8d037f11-b2dc-47b2-ad4b-fdacec860a4c",
     "showTitle": false,
     "title": ""
    }
   },
   "outputs": [
    {
     "output_type": "stream",
     "name": "stdout",
     "output_type": "stream",
     "text": [
      "Root Mean Squared Error (RMSE) on test data = 36.518052888895184\nMean Absolute Error (MAE) on test data = 17.878763246817364\nR-squared (R²) on test data = 0.02667531329370565\n"
     ]
    }
   ],
   "source": [
    "# Make predictions\n",
    "predictions = model.transform(test_df)\n",
    "\n",
    "# Evaluate the model\n",
    "evaluator_rmse = RegressionEvaluator(labelCol=\"DEPARTURE_DELAY\", predictionCol=\"prediction\", metricName=\"rmse\")\n",
    "evaluator_mae = RegressionEvaluator(labelCol=\"DEPARTURE_DELAY\", predictionCol=\"prediction\", metricName=\"mae\")\n",
    "evaluator_r2 = RegressionEvaluator(labelCol=\"DEPARTURE_DELAY\", predictionCol=\"prediction\", metricName=\"r2\")\n",
    "\n",
    "rmse = evaluator_rmse.evaluate(predictions)\n",
    "mae = evaluator_mae.evaluate(predictions)\n",
    "r2 = evaluator_r2.evaluate(predictions)\n",
    "\n",
    "print(\"Root Mean Squared Error (RMSE) on test data =\", rmse)\n",
    "print(\"Mean Absolute Error (MAE) on test data =\", mae)\n",
    "print(\"R-squared (R²) on test data =\", r2)\n"
   ]
  },
  {
   "cell_type": "markdown",
   "metadata": {
    "application/vnd.databricks.v1+cell": {
     "cellMetadata": {
      "byteLimit": 2048000,
      "rowLimit": 10000
     },
     "inputWidgets": {},
     "nuid": "894453af-61fa-4ff7-b602-5375f0d51168",
     "showTitle": false,
     "title": ""
    }
   },
   "source": [
    "The RMSE on the test data is 36.587 minutes, suggesting that, on average, the predictions are off by approximately 36.59 minutes.\n",
    "The MAE on the test data is 17.834 minutes, indicating that, on average, the absolute error of the predictions is about 17.83 minutes.\n",
    "The R² on the test data is 0.026, suggesting that only about 2.6% of the variance in departure delays is explained by the model."
   ]
  },
  {
   "cell_type": "code",
   "execution_count": 0,
   "metadata": {
    "application/vnd.databricks.v1+cell": {
     "cellMetadata": {
      "byteLimit": 2048000,
      "rowLimit": 10000
     },
     "inputWidgets": {},
     "nuid": "3d2584cd-b3cc-48e2-93e1-3f5d6495a027",
     "showTitle": false,
     "title": ""
    }
   },
   "outputs": [],
   "source": [
    "spark = (SparkSession\n",
    ".builder\n",
    ".appName(\"DecisionTreeRegressorTrain\")\n",
    ".getOrCreate()\n",
    ")"
   ]
  },
  {
   "cell_type": "code",
   "execution_count": 0,
   "metadata": {
    "application/vnd.databricks.v1+cell": {
     "cellMetadata": {
      "byteLimit": 2048000,
      "rowLimit": 10000
     },
     "inputWidgets": {},
     "nuid": "57e4ab35-5149-4186-969f-948d9cd8db74",
     "showTitle": false,
     "title": ""
    }
   },
   "outputs": [],
   "source": [
    "from pyspark.ml.regression import DecisionTreeRegressor\n",
    "from pyspark.ml.evaluation import RegressionEvaluator\n",
    "\n",
    "# Initialize the DecisionTreeRegressor\n",
    "dt = DecisionTreeRegressor(featuresCol=\"features\", labelCol=\"DEPARTURE_DELAY\", maxBins=700, seed=42)\n",
    "\n",
    "# Train the model\n",
    "model = dt.fit(train_df)\n",
    "\n"
   ]
  },
  {
   "cell_type": "code",
   "execution_count": 0,
   "metadata": {
    "application/vnd.databricks.v1+cell": {
     "cellMetadata": {
      "byteLimit": 2048000,
      "rowLimit": 10000
     },
     "inputWidgets": {},
     "nuid": "c88156d1-e041-4100-89b4-a3d04e2f4189",
     "showTitle": false,
     "title": ""
    }
   },
   "outputs": [],
   "source": [
    "spark = (SparkSession\n",
    ".builder\n",
    ".appName(\"DecisionTreeRegressorEval\")\n",
    ".getOrCreate()\n",
    ")"
   ]
  },
  {
   "cell_type": "code",
   "execution_count": 0,
   "metadata": {
    "application/vnd.databricks.v1+cell": {
     "cellMetadata": {
      "byteLimit": 2048000,
      "rowLimit": 10000
     },
     "inputWidgets": {},
     "nuid": "9e19cf8a-52fe-4237-b01e-6e634f28cbb8",
     "showTitle": false,
     "title": ""
    }
   },
   "outputs": [
    {
     "output_type": "stream",
     "name": "stdout",
     "output_type": "stream",
     "text": [
      "Root Mean Squared Error (RMSE) on test data = 36.56961454620441\nMean Absolute Error (MAE) on test data = 17.862852667629326\nR-squared (R²) on test data = 0.023924801686707298\n"
     ]
    }
   ],
   "source": [
    "# Make predictions\n",
    "predictions = model.transform(test_df)\n",
    "\n",
    "# Evaluate the model\n",
    "evaluator_rmse = RegressionEvaluator(labelCol=\"DEPARTURE_DELAY\", predictionCol=\"prediction\", metricName=\"rmse\")\n",
    "evaluator_mae = RegressionEvaluator(labelCol=\"DEPARTURE_DELAY\", predictionCol=\"prediction\", metricName=\"mae\")\n",
    "evaluator_r2 = RegressionEvaluator(labelCol=\"DEPARTURE_DELAY\", predictionCol=\"prediction\", metricName=\"r2\")\n",
    "\n",
    "rmse = evaluator_rmse.evaluate(predictions)\n",
    "mae = evaluator_mae.evaluate(predictions)\n",
    "r2 = evaluator_r2.evaluate(predictions)\n",
    "\n",
    "print(\"Root Mean Squared Error (RMSE) on test data =\", rmse)\n",
    "print(\"Mean Absolute Error (MAE) on test data =\", mae)\n",
    "print(\"R-squared (R²) on test data =\", r2)\n"
   ]
  },
  {
   "cell_type": "markdown",
   "metadata": {
    "application/vnd.databricks.v1+cell": {
     "cellMetadata": {
      "byteLimit": 2048000,
      "rowLimit": 10000
     },
     "inputWidgets": {},
     "nuid": "43f87fe4-a1a1-4dbe-b48e-e87d4f3f32e6",
     "showTitle": false,
     "title": ""
    }
   },
   "source": [
    "Root Mean Squared Error (RMSE): The RMSE of 36.643 suggests that, on average, the predictions are off by approximately 36.64 minutes. This indicates a moderate level of error in the model's predictions.\n",
    "\n",
    "Mean Absolute Error (MAE): The MAE of 17.802 suggests that, on average, the absolute error of the predictions is about 17.80 minutes. This indicates that the model's predictions are reasonably close to the actual values but still have a noticeable error margin.\n",
    "\n",
    "R-squared (R²): The R² value of 0.023 indicates that only about 2.3% of the variance in departure delays is explained by the model. This suggests that the model has limited predictive power and there are likely other factors influencing departure delays that are not captured by the features used in this model."
   ]
  },
  {
   "cell_type": "code",
   "execution_count": 0,
   "metadata": {
    "application/vnd.databricks.v1+cell": {
     "cellMetadata": {
      "byteLimit": 2048000,
      "rowLimit": 10000
     },
     "inputWidgets": {},
     "nuid": "70554bdc-1b40-4993-8a7a-e25da094ce70",
     "showTitle": false,
     "title": ""
    }
   },
   "outputs": [
    {
     "output_type": "display_data",
     "data": {
      "image/png": "[encoded data removed]"
     },
     "metadata": {
      "application/vnd.databricks.v1+output": {
       "addedWidgets": {},
       "arguments": {},
       "data": "data:image/png;base64,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\n",
       "datasetInfos": [],
       "metadata": {},
       "removedWidgets": [],
       "type": "image"
      }
     },
     "output_type": "display_data"
    },
    {
     "output_type": "display_data",
     "data": {
      "image/png": "[encoded data removed]"
     },
     "metadata": {
      "application/vnd.databricks.v1+output": {
       "addedWidgets": {},
       "arguments": {},
       "data": "data:image/png;base64,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\n",
       "datasetInfos": [],
       "metadata": {},
       "removedWidgets": [],
       "type": "image"
      }
     },
     "output_type": "display_data"
    },
    {
     "output_type": "display_data",
     "data": {
      "image/png": "[encoded data removed]"
     },
     "metadata": {
      "application/vnd.databricks.v1+output": {
       "addedWidgets": {},
       "arguments": {},
       "data": "data:image/png;base64,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\n",
       "datasetInfos": [],
       "metadata": {},
       "removedWidgets": [],
       "type": "image"
      }
     },
     "output_type": "display_data"
    }
   ],
   "source": [
    "import matplotlib.pyplot as plt\n",
    "\n",
    "models = [\"Linear Regression\", \"RandomForest Regressor\", \"Decision Tree Regressor\"]\n",
    "rmse_values = [36.41, 36.17, 36.21]  \n",
    "mae_values = [18.04, 17.83, 17.78]  \n",
    "r2_values = [0.014, 0.027, 0.025]    \n",
    "\n",
    "# Plotting RMSE\n",
    "plt.bar(models, rmse_values, color='skyblue', label='RMSE')\n",
    "plt.xlabel('Models')\n",
    "plt.ylabel('RMSE')\n",
    "plt.title('Root Mean Squared Error (RMSE) Across Models')\n",
    "plt.legend()\n",
    "plt.show()\n",
    "\n",
    "# Plotting MAE\n",
    "plt.bar(models, mae_values, color='lightgreen', label='MAE')\n",
    "plt.xlabel('Models')\n",
    "plt.ylabel('MAE')\n",
    "plt.title('Mean Absolute Error (MAE) Across Models')\n",
    "plt.legend()\n",
    "plt.show()\n",
    "\n",
    "# Plotting R-squared\n",
    "plt.bar(models, r2_values, color='salmon', label='R-squared')\n",
    "plt.xlabel('Models')\n",
    "plt.ylabel('R-squared')\n",
    "plt.title('R-squared (R²) Across Models')\n",
    "plt.legend()\n",
    "plt.show()\n"
   ]
  },
  {
   "cell_type": "markdown",
   "metadata": {
    "application/vnd.databricks.v1+cell": {
     "cellMetadata": {
      "byteLimit": 2048000,
      "rowLimit": 10000
     },
     "inputWidgets": {},
     "nuid": "386ba27b-726a-4057-9de2-d62365a387d7",
     "showTitle": false,
     "title": ""
    }
   },
   "source": [
    "Here We have compared the root mean square error, Mean Absolute Error and R-squared Across all three models \n",
    "we can see that:-\n",
    "\n",
    "Root Mean Squared Error (RMSE):\n",
    "The RMSE plot shows that all three models have relatively similar RMSE values around 36. Lower RMSE values indicate better model performance, so based on this metric alone, the random forest performs slightly better.\n",
    "\n",
    "Mean Absolute Error (MAE):\n",
    "The MAE plot shows that all three models have similar MAE values around 17.5. Like RMSE, lower MAE values are better, and here decision tree performs slightly better.\n",
    "\n",
    "R-squared (R^2):\n",
    "The R^2 plot shows the R-squared values for the models. R-squared ranges from 0 to 1, with higher values indicating better model fit. In this case, the random forest Regressor model has the highest R^2 value, around 0.026, followed by the Decision Tree Regressor and Linear regression models."
   ]
  }
 ],
 "metadata": {
  "application/vnd.databricks.v1+notebook": {
   "dashboards": [],
   "environmentMetadata": null,
   "language": "python",
   "notebookMetadata": {
    "pythonIndentUnit": 4
   },
   "notebookName": "ML-DELAY",
   "widgets": {}
  }
 },
 "nbformat": 4,
 "nbformat_minor": 0
}
