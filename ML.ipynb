{
 "cells": [
  {
   "cell_type": "markdown",
   "metadata": {
    "application/vnd.databricks.v1+cell": {
     "cellMetadata": {
      "byteLimit": 2048000,
      "rowLimit": 10000
     },
     "inputWidgets": {},
     "nuid": "3e0f6b0d-aaff-4629-8fbd-ed18a2df75b6",
     "showTitle": false,
     "title": ""
    }
   },
   "source": [
    "In this notebook we are trying to predict the arrival delay of the flights using machine learning models such as linear regression, random Forest regressor and decision tree regressor"
   ]
  },
  {
   "cell_type": "code",
   "execution_count": 0,
   "metadata": {
    "application/vnd.databricks.v1+cell": {
     "cellMetadata": {
      "byteLimit": 2048000,
      "rowLimit": 10000
     },
     "inputWidgets": {},
     "nuid": "6297ff20-a086-4b3d-b86b-cc01d40e19ef",
     "showTitle": false,
     "title": ""
    }
   },
   "outputs": [],
   "source": [
    "#Start SparkSession\n",
    "from pyspark.sql import SparkSession\n",
    "from pyspark.sql import functions as F\n",
    "\n",
    "spark = SparkSession.builder.getOrCreate()\n",
    "\n",
    "spark = (SparkSession\n",
    ".builder\n",
    ".appName(\"ML\")\n",
    ".getOrCreate()\n",
    ")"
   ]
  },
  {
   "cell_type": "code",
   "execution_count": 0,
   "metadata": {
    "application/vnd.databricks.v1+cell": {
     "cellMetadata": {
      "byteLimit": 2048000,
      "rowLimit": 10000
     },
     "inputWidgets": {},
     "nuid": "990eed90-3461-4b5c-bf43-be5680d321a1",
     "showTitle": false,
     "title": ""
    }
   },
   "outputs": [
    {
     "output_type": "display_data",
     "data": {
      "application/vnd.databricks.v1+bamboolib_hint": "{\"pd.DataFrames\": [], \"version\": \"0.0.1\"}",
      "text/plain": []
     },
     "metadata": {},
     "output_type": "display_data"
    }
   ],
   "source": [
    "#Importing Necessary Libraries\n",
    "import pandas\n",
    "from pyspark.sql.functions import col\n",
    "from pyspark.ml import Pipeline\n",
    "import matplotlib.pyplot as plt"
   ]
  },
  {
   "cell_type": "code",
   "execution_count": 0,
   "metadata": {
    "application/vnd.databricks.v1+cell": {
     "cellMetadata": {
      "byteLimit": 2048000,
      "rowLimit": 10000
     },
     "inputWidgets": {},
     "nuid": "1b8d103c-ac7a-4782-948d-4de546beabc5",
     "showTitle": false,
     "title": ""
    }
   },
   "outputs": [],
   "source": [
    "flight_file_path = \"dbfs:/FileStore/shared_uploads/nsingh17@stevens.edu/Airlines Airports Cancellation Codes & Flights/flights.csv\"\n",
    "flights = spark.read.csv(flight_file_path, header=True, inferSchema=True)"
   ]
  },
  {
   "cell_type": "code",
   "execution_count": 0,
   "metadata": {
    "application/vnd.databricks.v1+cell": {
     "cellMetadata": {
      "byteLimit": 2048000,
      "rowLimit": 10000
     },
     "inputWidgets": {},
     "nuid": "37d74d38-3ee0-48cb-a13b-3ca2090cb1b6",
     "showTitle": false,
     "title": ""
    }
   },
   "outputs": [
    {
     "output_type": "stream",
     "name": "stdout",
     "output_type": "stream",
     "text": [
      "+-----+---+-----------+-------+--------------+-------------------+--------+-----------------+-------------+\n|MONTH|DAY|DAY_OF_WEEK|AIRLINE|ORIGIN_AIRPORT|DESTINATION_AIRPORT|DISTANCE|SCHEDULED_ARRIVAL|ARRIVAL_DELAY|\n+-----+---+-----------+-------+--------------+-------------------+--------+-----------------+-------------+\n|    1|  1|          4|     AS|           ANC|                SEA|    1448|              430|          -22|\n|    1|  1|          4|     AA|           LAX|                PBI|    2330|              750|           -9|\n|    1|  1|          4|     US|           SFO|                CLT|    2296|              806|            5|\n|    1|  1|          4|     AA|           LAX|                MIA|    2342|              805|           -9|\n|    1|  1|          4|     AS|           SEA|                ANC|    1448|              320|          -21|\n|    1|  1|          4|     DL|           SFO|                MSP|    1589|              602|            8|\n|    1|  1|          4|     NK|           LAS|                MSP|    1299|              526|          -17|\n|    1|  1|          4|     US|           LAX|                CLT|    2125|              803|          -10|\n|    1|  1|          4|     AA|           SFO|                DFW|    1464|              545|          -13|\n|    1|  1|          4|     DL|           LAS|                ATL|    1747|              711|          -15|\n|    1|  1|          4|     DL|           DEN|                ATL|    1199|              523|          -30|\n|    1|  1|          4|     AA|           LAS|                MIA|    2174|              803|          -10|\n|    1|  1|          4|     DL|           LAX|                MSP|    1535|              609|           -4|\n|    1|  1|          4|     DL|           SLC|                ATL|    1590|              615|          -22|\n|    1|  1|          4|     DL|           SEA|                MSP|    1399|              549|            8|\n|    1|  1|          4|     AS|           ANC|                SEA|    1448|              509|          -14|\n|    1|  1|          4|     DL|           ANC|                SEA|    1448|              515|          -24|\n|    1|  1|          4|     UA|           SFO|                IAH|    1635|              626|           -7|\n|    1|  1|          4|     AS|           ANC|                PDX|    1542|              525|          -18|\n|    1|  1|          4|     DL|           PDX|                MSP|    1426|              603|          -12|\n+-----+---+-----------+-------+--------------+-------------------+--------+-----------------+-------------+\nonly showing top 20 rows\n\n"
     ]
    }
   ],
   "source": [
    "#Feature selection\n",
    "data = flights.select('MONTH','DAY','DAY_OF_WEEK','AIRLINE','ORIGIN_AIRPORT','DESTINATION_AIRPORT','DISTANCE','SCHEDULED_ARRIVAL','ARRIVAL_DELAY')\n",
    "data.show()\n"
   ]
  },
  {
   "cell_type": "code",
   "execution_count": 0,
   "metadata": {
    "application/vnd.databricks.v1+cell": {
     "cellMetadata": {
      "byteLimit": 2048000,
      "rowLimit": 10000
     },
     "inputWidgets": {},
     "nuid": "b2fd361c-71e3-472c-8eca-23032dbea133",
     "showTitle": false,
     "title": ""
    }
   },
   "outputs": [],
   "source": [
    "#Setting the target Variable for prediction.\n",
    "\n",
    "numericColumns = [\n",
    "    'DISTANCE',\n",
    "    'SCHEDULED_ARRIVAL'\n",
    "]\n",
    "\n",
    "target = ['ARRIVAL_DELAY']\n",
    "\n",
    "categoricalColumns = [\n",
    "    'MONTH',\n",
    "    'DAY',\n",
    "    'DAY_OF_WEEK',\n",
    "    'AIRLINE',\n",
    "    'ORIGIN_AIRPORT',\n",
    "    'DESTINATION_AIRPORT'\n",
    "]"
   ]
  },
  {
   "cell_type": "code",
   "execution_count": 0,
   "metadata": {
    "application/vnd.databricks.v1+cell": {
     "cellMetadata": {
      "byteLimit": 2048000,
      "rowLimit": 10000
     },
     "inputWidgets": {},
     "nuid": "8e2e7019-db07-41f1-b64f-9019ed1e4f44",
     "showTitle": false,
     "title": ""
    }
   },
   "outputs": [
    {
     "output_type": "stream",
     "name": "stdout",
     "output_type": "stream",
     "text": [
      "+-------+-----------------+------------------+\n|summary|         DISTANCE| SCHEDULED_ARRIVAL|\n+-------+-----------------+------------------+\n|  count|          5819079|           5819079|\n|   mean|822.3564947305235|1493.8082485218022|\n| stddev|607.7842873170453| 507.1646955936958|\n|    min|               21|                 1|\n|    max|             4983|              2400|\n+-------+-----------------+------------------+\n\n"
     ]
    }
   ],
   "source": [
    "data.select(numericColumns).describe().show()"
   ]
  },
  {
   "cell_type": "code",
   "execution_count": 0,
   "metadata": {
    "application/vnd.databricks.v1+cell": {
     "cellMetadata": {
      "byteLimit": 2048000,
      "rowLimit": 10000
     },
     "inputWidgets": {},
     "nuid": "44e46ab6-8eaf-456d-97d6-4a939e94d069",
     "showTitle": false,
     "title": ""
    }
   },
   "outputs": [
    {
     "output_type": "display_data",
     "data": {
      "text/html": [
       "<div>\n",
       "<style scoped>\n",
       "    .dataframe tbody tr th:only-of-type {\n",
       "        vertical-align: middle;\n",
       "    }\n",
       "\n",
       "    .dataframe tbody tr th {\n",
       "        vertical-align: top;\n",
       "    }\n",
       "\n",
       "    .dataframe thead th {\n",
       "        text-align: right;\n",
       "    }\n",
       "</style>\n",
       "<table border=\"1\" class=\"dataframe\">\n",
       "  <thead>\n",
       "    <tr style=\"text-align: right;\">\n",
       "      <th></th>\n",
       "      <th>DISTANCE</th>\n",
       "      <th>SCHEDULED_ARRIVAL</th>\n",
       "    </tr>\n",
       "  </thead>\n",
       "  <tbody>\n",
       "    <tr>\n",
       "      <th>DISTANCE</th>\n",
       "      <td>1.000000</td>\n",
       "      <td>0.027369</td>\n",
       "    </tr>\n",
       "    <tr>\n",
       "      <th>SCHEDULED_ARRIVAL</th>\n",
       "      <td>0.027369</td>\n",
       "      <td>1.000000</td>\n",
       "    </tr>\n",
       "  </tbody>\n",
       "</table>\n",
       "</div>"
      ]
     },
     "metadata": {
      "application/vnd.databricks.v1+output": {
       "addedWidgets": {},
       "arguments": {},
       "data": "<div>\n<style scoped>\n    .dataframe tbody tr th:only-of-type {\n        vertical-align: middle;\n    }\n\n    .dataframe tbody tr th {\n        vertical-align: top;\n    }\n\n    .dataframe thead th {\n        text-align: right;\n    }\n</style>\n<table border=\"1\" class=\"dataframe\">\n  <thead>\n    <tr style=\"text-align: right;\">\n      <th></th>\n      <th>DISTANCE</th>\n      <th>SCHEDULED_ARRIVAL</th>\n    </tr>\n  </thead>\n  <tbody>\n    <tr>\n      <th>DISTANCE</th>\n      <td>1.000000</td>\n      <td>0.027369</td>\n    </tr>\n    <tr>\n      <th>SCHEDULED_ARRIVAL</th>\n      <td>0.027369</td>\n      <td>1.000000</td>\n    </tr>\n  </tbody>\n</table>\n</div>",
       "datasetInfos": [],
       "metadata": {},
       "removedWidgets": [],
       "textData": null,
       "type": "htmlSandbox"
      }
     },
     "output_type": "display_data"
    }
   ],
   "source": [
    "#Finding Correlation Between Distance and Scheduled_Arrival\n",
    "numeric_data = data.select(numericColumns).toPandas()\n",
    "numeric_data.corr()"
   ]
  },
  {
   "cell_type": "markdown",
   "metadata": {
    "application/vnd.databricks.v1+cell": {
     "cellMetadata": {
      "byteLimit": 2048000,
      "rowLimit": 10000
     },
     "inputWidgets": {},
     "nuid": "ea174a2c-02c3-41f6-a7d8-dbade00d37ea",
     "showTitle": false,
     "title": ""
    }
   },
   "source": [
    "DISTANCE has a correlation of 1.000000 with itself and 0.027369 with SCHEDULED_ARRIVAL.\n",
    "SCHEDULED_ARRIVAL has a correlation of 0.027369 with DISTANCE and 1.000000 with itself.\n",
    "The correlation matrix indicates that there is a very weak positive correlation between DISTANCE and SCHEDULED_ARRIVAL, suggesting that the scheduled arrival time is almost independent of the flight distance. "
   ]
  },
  {
   "cell_type": "code",
   "execution_count": 0,
   "metadata": {
    "application/vnd.databricks.v1+cell": {
     "cellMetadata": {
      "byteLimit": 2048000,
      "rowLimit": 10000
     },
     "inputWidgets": {},
     "nuid": "a2cbdbcb-16d1-408c-a445-96127c85c986",
     "showTitle": false,
     "title": ""
    }
   },
   "outputs": [
    {
     "output_type": "stream",
     "name": "stdout",
     "output_type": "stream",
     "text": [
      "root\n |-- MONTH: integer (nullable = true)\n |-- DAY: integer (nullable = true)\n |-- DAY_OF_WEEK: integer (nullable = true)\n |-- AIRLINE: string (nullable = true)\n |-- ORIGIN_AIRPORT: string (nullable = true)\n |-- DESTINATION_AIRPORT: string (nullable = true)\n |-- DISTANCE: integer (nullable = true)\n |-- SCHEDULED_ARRIVAL: integer (nullable = true)\n |-- ARRIVAL_DELAY: integer (nullable = true)\n\n"
     ]
    }
   ],
   "source": [
    "data.printSchema()"
   ]
  },
  {
   "cell_type": "code",
   "execution_count": 0,
   "metadata": {
    "application/vnd.databricks.v1+cell": {
     "cellMetadata": {
      "byteLimit": 2048000,
      "rowLimit": 10000
     },
     "inputWidgets": {},
     "nuid": "3271a475-b5f7-49a7-aca4-5582ec7e65fe",
     "showTitle": false,
     "title": ""
    }
   },
   "outputs": [],
   "source": [
    "from pyspark.ml.feature import  VectorAssembler,StandardScaler,StringIndexer, OneHotEncoder"
   ]
  },
  {
   "cell_type": "code",
   "execution_count": 0,
   "metadata": {
    "application/vnd.databricks.v1+cell": {
     "cellMetadata": {
      "byteLimit": 2048000,
      "rowLimit": 10000
     },
     "inputWidgets": {},
     "nuid": "4dcc1dce-51ca-4a80-be18-ea0fc4267a54",
     "showTitle": false,
     "title": ""
    }
   },
   "outputs": [],
   "source": [
    "# Define string indexer for each string column\n",
    "indexer1 = StringIndexer(inputCol=\"ORIGIN_AIRPORT\", outputCol=\"ORIGIN_AIRPORT_indx\")\n",
    "indexer2 = StringIndexer(inputCol=\"DESTINATION_AIRPORT\", outputCol=\"DESTINATION_AIRPORT_indx\")\n",
    "indexer3 = StringIndexer(inputCol=\"AIRLINE\", outputCol=\"AIRLINE_indx\")\n",
    "\n"
   ]
  },
  {
   "cell_type": "code",
   "execution_count": 0,
   "metadata": {
    "application/vnd.databricks.v1+cell": {
     "cellMetadata": {
      "byteLimit": 2048000,
      "rowLimit": 10000
     },
     "inputWidgets": {},
     "nuid": "0d8f6eb6-5ff6-4436-a838-b6e918b93996",
     "showTitle": false,
     "title": ""
    }
   },
   "outputs": [],
   "source": [
    "# Define the VectorAssembler for numerical and encoded features\n",
    "vector_assembler = VectorAssembler(inputCols=['MONTH','DAY','DAY_OF_WEEK','AIRLINE_indx','ORIGIN_AIRPORT_indx','DESTINATION_AIRPORT_indx','DISTANCE','SCHEDULED_ARRIVAL'], outputCol=\"features\")\n",
    "\n"
   ]
  },
  {
   "cell_type": "code",
   "execution_count": 0,
   "metadata": {
    "application/vnd.databricks.v1+cell": {
     "cellMetadata": {
      "byteLimit": 2048000,
      "rowLimit": 10000
     },
     "inputWidgets": {},
     "nuid": "f2d00a9b-c148-4e57-975d-101adb966fc6",
     "showTitle": false,
     "title": ""
    }
   },
   "outputs": [],
   "source": [
    "# Sample 30% of the data without replacement\n",
    "sampled_data30 = data.sample(withReplacement=False, fraction=0.3)\n",
    "\n",
    "# Sample 50% of the data without replacement\n",
    "sampled_data50 = data.sample(withReplacement=False, fraction=0.5)\n",
    "\n",
    "# Sample 70% of the data without replacement\n",
    "sampled_data70 = data.sample(withReplacement=False, fraction=0.7)\n",
    "\n"
   ]
  },
  {
   "cell_type": "code",
   "execution_count": 0,
   "metadata": {
    "application/vnd.databricks.v1+cell": {
     "cellMetadata": {
      "byteLimit": 2048000,
      "rowLimit": 10000
     },
     "inputWidgets": {},
     "nuid": "df1bf168-3e4b-4209-b1e2-e400d0eaf4f0",
     "showTitle": false,
     "title": ""
    }
   },
   "outputs": [],
   "source": [
    "# Create a Pipeline\n",
    "pipeline = Pipeline(stages=[indexer1, indexer2,indexer3, vector_assembler])\n",
    "\n",
    "# Fit the pipeline to the DataFrame\n",
    "pipeline_model = pipeline.fit(data)"
   ]
  },
  {
   "cell_type": "code",
   "execution_count": 0,
   "metadata": {
    "application/vnd.databricks.v1+cell": {
     "cellMetadata": {
      "byteLimit": 2048000,
      "rowLimit": 10000
     },
     "inputWidgets": {},
     "nuid": "59775487-7f23-49cf-87f0-144451def00d",
     "showTitle": false,
     "title": ""
    }
   },
   "outputs": [],
   "source": [
    "# Transform the DataFrame\n",
    "transformed_df = pipeline_model.transform(data)\n",
    "\n",
    "# Show the transformed DataFrame\n",
    "transformed_df.show()"
   ]
  },
  {
   "cell_type": "code",
   "execution_count": 0,
   "metadata": {
    "application/vnd.databricks.v1+cell": {
     "cellMetadata": {
      "byteLimit": 2048000,
      "rowLimit": 10000
     },
     "inputWidgets": {},
     "nuid": "be472db2-7a24-48ef-9908-91e7e828f2fc",
     "showTitle": false,
     "title": ""
    }
   },
   "outputs": [],
   "source": [
    "ml_data = transformed_df.select('features','ARRIVAL_DELAY')"
   ]
  },
  {
   "cell_type": "code",
   "execution_count": 0,
   "metadata": {
    "application/vnd.databricks.v1+cell": {
     "cellMetadata": {
      "byteLimit": 2048000,
      "rowLimit": 10000
     },
     "inputWidgets": {},
     "nuid": "10859c3d-4c34-40c6-a80a-739cd4ce5920",
     "showTitle": false,
     "title": ""
    }
   },
   "outputs": [],
   "source": [
    "#handling missing data\n",
    "ml_data = ml_data.fillna(0)"
   ]
  },
  {
   "cell_type": "code",
   "execution_count": 0,
   "metadata": {
    "application/vnd.databricks.v1+cell": {
     "cellMetadata": {
      "byteLimit": 2048000,
      "rowLimit": 10000
     },
     "inputWidgets": {},
     "nuid": "313855a0-2097-46b7-b910-78c462c231ff",
     "showTitle": false,
     "title": ""
    }
   },
   "outputs": [],
   "source": [
    "#Splitting the data \n",
    "train_df, test_df = ml_data.randomSplit([0.7,0.3],seed=42)"
   ]
  },
  {
   "cell_type": "code",
   "execution_count": 0,
   "metadata": {
    "application/vnd.databricks.v1+cell": {
     "cellMetadata": {
      "byteLimit": 2048000,
      "rowLimit": 10000
     },
     "inputWidgets": {},
     "nuid": "fa48f900-1f66-42b4-8085-a25f8c179a05",
     "showTitle": false,
     "title": ""
    }
   },
   "outputs": [
    {
     "output_type": "stream",
     "name": "stdout",
     "output_type": "stream",
     "text": [
      "+--------------------+-------------+\n|            features|ARRIVAL_DELAY|\n+--------------------+-------------+\n|[1.0,1.0,4.0,0.0,...|           -8|\n|[1.0,1.0,4.0,0.0,...|            7|\n|[1.0,1.0,4.0,0.0,...|           17|\n|[1.0,1.0,4.0,0.0,...|          -24|\n|[1.0,1.0,4.0,0.0,...|          -25|\n|[1.0,1.0,4.0,0.0,...|           -7|\n|[1.0,1.0,4.0,0.0,...|          -11|\n|[1.0,1.0,4.0,0.0,...|          -13|\n|[1.0,1.0,4.0,0.0,...|           -5|\n|[1.0,1.0,4.0,0.0,...|           34|\n|[1.0,1.0,4.0,0.0,...|           -1|\n|[1.0,1.0,4.0,0.0,...|           -7|\n|[1.0,1.0,4.0,0.0,...|           17|\n|[1.0,1.0,4.0,0.0,...|          -12|\n|[1.0,1.0,4.0,0.0,...|           -3|\n|[1.0,1.0,4.0,0.0,...|          -11|\n|[1.0,1.0,4.0,0.0,...|          -26|\n|[1.0,1.0,4.0,0.0,...|          -15|\n|[1.0,1.0,4.0,0.0,...|          -12|\n|[1.0,1.0,4.0,0.0,...|          -18|\n+--------------------+-------------+\nonly showing top 20 rows\n\n"
     ]
    }
   ],
   "source": [
    "\n",
    "train_df.show()"
   ]
  },
  {
   "cell_type": "code",
   "execution_count": 0,
   "metadata": {
    "application/vnd.databricks.v1+cell": {
     "cellMetadata": {
      "byteLimit": 2048000,
      "rowLimit": 10000
     },
     "inputWidgets": {},
     "nuid": "5a73bb5e-da43-494e-84e0-b39866564aad",
     "showTitle": false,
     "title": ""
    }
   },
   "outputs": [],
   "source": [
    "spark = (SparkSession\n",
    ".builder\n",
    ".appName(\"LinearRegressionTrain\")\n",
    ".getOrCreate()\n",
    ")"
   ]
  },
  {
   "cell_type": "code",
   "execution_count": 0,
   "metadata": {
    "application/vnd.databricks.v1+cell": {
     "cellMetadata": {
      "byteLimit": 2048000,
      "rowLimit": 10000
     },
     "inputWidgets": {},
     "nuid": "0abbfcb3-b3a5-45ff-bec4-721b57087931",
     "showTitle": false,
     "title": ""
    }
   },
   "outputs": [],
   "source": [
    "from pyspark.ml.regression import LinearRegression\n",
    "\n",
    "# Initialize the Linear Regression model\n",
    "lr = LinearRegression(featuresCol='features', labelCol='ARRIVAL_DELAY')\n",
    "\n",
    "# Train the model\n",
    "lr_model = lr.fit(train_df)\n"
   ]
  },
  {
   "cell_type": "code",
   "execution_count": 0,
   "metadata": {
    "application/vnd.databricks.v1+cell": {
     "cellMetadata": {
      "byteLimit": 2048000,
      "rowLimit": 10000
     },
     "inputWidgets": {},
     "nuid": "90e8c701-e8a7-47c8-acf0-25337e61418f",
     "showTitle": false,
     "title": ""
    }
   },
   "outputs": [],
   "source": [
    "predictions = lr_model.transform(test_df)"
   ]
  },
  {
   "cell_type": "code",
   "execution_count": 0,
   "metadata": {
    "application/vnd.databricks.v1+cell": {
     "cellMetadata": {
      "byteLimit": 2048000,
      "rowLimit": 10000
     },
     "inputWidgets": {},
     "nuid": "b1167cf3-3053-47c4-b99d-e99fb7836ef4",
     "showTitle": false,
     "title": ""
    }
   },
   "outputs": [],
   "source": [
    "spark = (SparkSession\n",
    ".builder\n",
    ".appName(\"LinearRegressionEval\")\n",
    ".getOrCreate()\n",
    ")"
   ]
  },
  {
   "cell_type": "code",
   "execution_count": 0,
   "metadata": {
    "application/vnd.databricks.v1+cell": {
     "cellMetadata": {
      "byteLimit": 2048000,
      "rowLimit": 10000
     },
     "inputWidgets": {},
     "nuid": "33f2eae6-5ee7-4965-a777-7e00867f3a71",
     "showTitle": false,
     "title": ""
    }
   },
   "outputs": [
    {
     "output_type": "stream",
     "name": "stdout",
     "output_type": "stream",
     "text": [
      "Root Mean Squared Error (RMSE) on test data = 38.46422666623374\nMean Absolute Error (MAE) on test data = 20.701735843127537\nR-squared (R²) on test data = 0.011784485108977227\n"
     ]
    }
   ],
   "source": [
    "from pyspark.ml.evaluation import RegressionEvaluator\n",
    "\n",
    "# Evaluate the model using rmse, mae, r2\n",
    "evaluator_rmse = RegressionEvaluator(labelCol=\"ARRIVAL_DELAY\", predictionCol=\"prediction\", metricName=\"rmse\")\n",
    "evaluator_mae = RegressionEvaluator(labelCol=\"ARRIVAL_DELAY\", predictionCol=\"prediction\", metricName=\"mae\")\n",
    "evaluator_r2 = RegressionEvaluator(labelCol=\"ARRIVAL_DELAY\", predictionCol=\"prediction\", metricName=\"r2\")\n",
    "\n",
    "rmse = evaluator_rmse.evaluate(predictions)\n",
    "mae = evaluator_mae.evaluate(predictions)\n",
    "r2 = evaluator_r2.evaluate(predictions)\n",
    "\n",
    "print(\"Root Mean Squared Error (RMSE) on test data =\", rmse)\n",
    "print(\"Mean Absolute Error (MAE) on test data =\", mae)\n",
    "print(\"R-squared (R²) on test data =\", r2)"
   ]
  },
  {
   "cell_type": "markdown",
   "metadata": {
    "application/vnd.databricks.v1+cell": {
     "cellMetadata": {
      "byteLimit": 2048000,
      "rowLimit": 10000
     },
     "inputWidgets": {},
     "nuid": "72bae6c2-ec21-46bb-81a2-7858a27858eb",
     "showTitle": false,
     "title": ""
    }
   },
   "source": [
    "Root Mean Squared Error (RMSE): The RMSE of 38.46 suggests that, on average, the predictions are off by approximately 38.46 minutes. This indicates a moderate level of error in the model's predictions.\n",
    "\n",
    "Mean Absolute Error (MAE): The MAE of 20.70 suggests that, on average, the absolute error of the predictions is about 20.70 minutes. This indicates that the model's predictions are reasonably close to the actual values but still have a noticeable error margin.\n",
    "\n",
    "R-squared (R²): The R² value of 0.011 indicates that only about 1.1% of the variance in departure delays is explained by the model. This suggests that the model has limited predictive power and there are likely other factors influencing departure delays that are not captured by the features used in this model."
   ]
  },
  {
   "cell_type": "code",
   "execution_count": 0,
   "metadata": {
    "application/vnd.databricks.v1+cell": {
     "cellMetadata": {
      "byteLimit": 2048000,
      "rowLimit": 10000
     },
     "inputWidgets": {},
     "nuid": "f57100f0-f0ba-4cf8-9561-555e903dcf75",
     "showTitle": false,
     "title": ""
    }
   },
   "outputs": [],
   "source": [
    "coefficients = lr_model.coefficients \n",
    "intercept = lr_model.intercept"
   ]
  },
  {
   "cell_type": "code",
   "execution_count": 0,
   "metadata": {
    "application/vnd.databricks.v1+cell": {
     "cellMetadata": {
      "byteLimit": 2048000,
      "rowLimit": 10000
     },
     "inputWidgets": {},
     "nuid": "86cdf7ac-2666-451e-8b01-0bc151888ccc",
     "showTitle": false,
     "title": ""
    }
   },
   "outputs": [],
   "source": [
    "import matplotlib.pyplot as plt\n",
    "import seaborn as sns\n",
    "\n",
    "# Residuals vs. Predictions Plot\n",
    "residuals = predictions.select(\"ARRIVAL_DELAY\", \"prediction\").rdd.map(lambda x: x[0] - x[1]).collect()\n",
    "predictions_values = predictions.select(\"prediction\").rdd.map(lambda x: x[0]).collect()\n",
    "plt.scatter(predictions_values,residuals,color='blue')\n",
    "plt.xlabel(\"Predicted Values\")\n",
    "plt.ylabel(\"Residuals\")\n",
    "plt.title(\"Residuals vs. Predicted Values\")\n",
    "plt.show()\n",
    "\n"
   ]
  },
  {
   "cell_type": "markdown",
   "metadata": {
    "application/vnd.databricks.v1+cell": {
     "cellMetadata": {
      "byteLimit": 2048000,
      "rowLimit": 10000
     },
     "inputWidgets": {},
     "nuid": "6dc083c5-8960-47a5-8f35-636a62246e6d",
     "showTitle": false,
     "title": ""
    }
   },
   "source": [
    "The plot displays a scatter plot of residuals against the predicted values from a regression model.\n",
    "Based on the plot, we can make the following inferences:\n",
    "\n",
    "Residual distribution: The residuals appear to have a skewed distribution, with a higher concentration of points on the lower end of the y-axis (residuals) and a long tail extending towards larger positive residual values.\n",
    "\n",
    "Bias: The distribution of residuals appears to be slightly shifted towards negative values, indicating that the model might have a tendency to overpredict the target variable on average.\n",
    "\n",
    "Outliers: There are several data points with large positive residuals, which can be considered outliers. \n",
    "\n",
    "The wide spread of residuals at higher predicted values suggests that the model may struggle to accurately predict extreme values.\n"
   ]
  },
  {
   "cell_type": "code",
   "execution_count": 0,
   "metadata": {
    "application/vnd.databricks.v1+cell": {
     "cellMetadata": {
      "byteLimit": 2048000,
      "rowLimit": 10000
     },
     "inputWidgets": {},
     "nuid": "6937d7a9-b10e-4927-adfa-906d29dd1482",
     "showTitle": false,
     "title": ""
    }
   },
   "outputs": [],
   "source": [
    "from pyspark.sql.functions import monotonically_increasing_id\n",
    "df_with_index = predictions.withColumn(\"index\", monotonically_increasing_id())\n",
    "\n",
    "panda_df = df_with_index.toPandas()\n",
    "# sns.set(style=\"whitegrid\")\n",
    "\n",
    "plt.figure(figsize=(10, 6))\n",
    "plt.scatter(panda_df['index'], panda_df['prediction'],color = 'red')\n",
    "plt.title('PREDICTED')\n",
    "\n",
    "plt.show()"
   ]
  },
  {
   "cell_type": "code",
   "execution_count": 0,
   "metadata": {
    "application/vnd.databricks.v1+cell": {
     "cellMetadata": {
      "byteLimit": 2048000,
      "rowLimit": 10000
     },
     "inputWidgets": {},
     "nuid": "35facc84-3de6-44ad-8d58-14740a7fdee1",
     "showTitle": false,
     "title": ""
    }
   },
   "outputs": [],
   "source": [
    "from pyspark.sql.functions import monotonically_increasing_id\n",
    "df_with_index = predictions.withColumn(\"index\", monotonically_increasing_id())\n",
    "\n",
    "panda_df = df_with_index.toPandas()\n",
    "# sns.set(style=\"whitegrid\")\n",
    "\n",
    "plt.figure(figsize=(10, 6))\n",
    "plt.scatter(panda_df['index'], panda_df['ARRIVAL_DELAY'],color = 'red')\n",
    "plt.title('ACTUAL')\n",
    "\n",
    "plt.show()"
   ]
  },
  {
   "cell_type": "code",
   "execution_count": 0,
   "metadata": {
    "application/vnd.databricks.v1+cell": {
     "cellMetadata": {
      "byteLimit": 2048000,
      "rowLimit": 10000
     },
     "inputWidgets": {},
     "nuid": "89667536-dd2f-4c84-b3f1-1b01349d4fa0",
     "showTitle": false,
     "title": ""
    }
   },
   "outputs": [],
   "source": [
    "from pyspark.sql.functions import monotonically_increasing_id\n",
    "\n",
    "df_with_index = predictions.withColumn(\"index\", monotonically_increasing_id())\n",
    "panda_df = df_with_index.toPandas()\n",
    "\n",
    "import matplotlib.pyplot as plt\n",
    "\n",
    "plt.figure(figsize=(10, 6))\n",
    "plt.scatter(panda_df['index'], panda_df['ARRIVAL_DELAY'], color='blue', label='Actual', alpha=0.5)\n",
    "plt.scatter(panda_df['index'], panda_df['prediction'], color='red', label='Predicted', alpha=0.5)\n",
    "plt.title('Actual vs. Predicted Arrival Delays')\n",
    "plt.xlabel('Index')\n",
    "plt.ylabel('Departure Delay')\n",
    "plt.legend()\n",
    "plt.show()"
   ]
  },
  {
   "cell_type": "markdown",
   "metadata": {
    "application/vnd.databricks.v1+cell": {
     "cellMetadata": {
      "byteLimit": 2048000,
      "rowLimit": 10000
     },
     "inputWidgets": {},
     "nuid": "0d6bf0e2-57f0-4792-a3a8-30fe56a0a0ed",
     "showTitle": false,
     "title": ""
    }
   },
   "source": [
    "This plot compares the actual values (blue) and predicted values (red) side-by-side. The actual and predicted values appear to follow similar trends, with some discrepancies between them."
   ]
  },
  {
   "cell_type": "code",
   "execution_count": 0,
   "metadata": {
    "application/vnd.databricks.v1+cell": {
     "cellMetadata": {
      "byteLimit": 2048000,
      "rowLimit": 10000
     },
     "inputWidgets": {},
     "nuid": "6867edea-ac16-4d66-be71-1684d5877647",
     "showTitle": false,
     "title": ""
    }
   },
   "outputs": [],
   "source": [
    "panda_df = predictions.toPandas()\n",
    "sns.set(style=\"whitegrid\")\n",
    "\n",
    "plt.figure(figsize=(10, 6))\n",
    "sns.scatterplot(x='ARRIVAL_DELAY', y='prediction', data=panda_df)\n",
    "\n",
    "# Set plot title and labels\n",
    "plt.title('ACTUAL VS PREDICTED')\n",
    "plt.xlabel('ACTUAL')\n",
    "plt.ylabel('PREDICTED')\n",
    "\n",
    "plt.show()"
   ]
  },
  {
   "cell_type": "markdown",
   "metadata": {
    "application/vnd.databricks.v1+cell": {
     "cellMetadata": {
      "byteLimit": 2048000,
      "rowLimit": 10000
     },
     "inputWidgets": {},
     "nuid": "665b8f57-f06c-4513-a6a9-2900378f805d",
     "showTitle": false,
     "title": ""
    }
   },
   "source": [
    "This is a scatter plot comparing the actual values (x-axis) against the predicted values (y-axis) from a model or simulation. The data points are clustered around a diagonal line, indicating that the predictions generally align with the actual values. However, there is some spread and deviation from the diagonal."
   ]
  },
  {
   "cell_type": "code",
   "execution_count": 0,
   "metadata": {
    "application/vnd.databricks.v1+cell": {
     "cellMetadata": {
      "byteLimit": 2048000,
      "rowLimit": 10000
     },
     "inputWidgets": {},
     "nuid": "cdd5b46f-90f8-4778-944f-8546c4857350",
     "showTitle": false,
     "title": ""
    }
   },
   "outputs": [],
   "source": [
    "spark = (SparkSession\n",
    ".builder\n",
    ".appName(\"RandomForestRegressorTrain\")\n",
    ".getOrCreate()\n",
    ")"
   ]
  },
  {
   "cell_type": "code",
   "execution_count": 0,
   "metadata": {
    "application/vnd.databricks.v1+cell": {
     "cellMetadata": {
      "byteLimit": 2048000,
      "rowLimit": 10000
     },
     "inputWidgets": {},
     "nuid": "a6905f23-d370-422e-9048-c8d7fb583ac6",
     "showTitle": false,
     "title": ""
    }
   },
   "outputs": [],
   "source": [
    "from pyspark.ml.regression import RandomForestRegressor\n",
    "from pyspark.ml.evaluation import RegressionEvaluator\n",
    "\n",
    "\n",
    "# Initialize the RandomForestRegressor\n",
    "rf = RandomForestRegressor(featuresCol=\"features\", labelCol=\"ARRIVAL_DELAY\",maxBins=700, seed=42)\n",
    "\n",
    "# Train the model\n",
    "model = rf.fit(train_df)\n"
   ]
  },
  {
   "cell_type": "code",
   "execution_count": 0,
   "metadata": {
    "application/vnd.databricks.v1+cell": {
     "cellMetadata": {
      "byteLimit": 2048000,
      "rowLimit": 10000
     },
     "inputWidgets": {},
     "nuid": "1310dc36-16fa-4e0c-9329-35006db9d1f6",
     "showTitle": false,
     "title": ""
    }
   },
   "outputs": [],
   "source": [
    "spark = (SparkSession\n",
    ".builder\n",
    ".appName(\"RandomForestRegressorEval\")\n",
    ".getOrCreate()\n",
    ")"
   ]
  },
  {
   "cell_type": "code",
   "execution_count": 0,
   "metadata": {
    "application/vnd.databricks.v1+cell": {
     "cellMetadata": {
      "byteLimit": 2048000,
      "rowLimit": 10000
     },
     "inputWidgets": {},
     "nuid": "3a8c9cc1-c6a1-448c-941b-22189587af90",
     "showTitle": false,
     "title": ""
    }
   },
   "outputs": [
    {
     "output_type": "stream",
     "name": "stdout",
     "output_type": "stream",
     "text": [
      "Root Mean Squared Error (RMSE) on test data = 38.1969018029407\nMean Absolute Error (MAE) on test data = 20.426003371963535\nR-squared (R²) on test data = 0.025472870332083564\n"
     ]
    }
   ],
   "source": [
    "# Make predictions\n",
    "predictions = model.transform(test_df)\n",
    "\n",
    "# Evaluate the model\n",
    "evaluator_rmse = RegressionEvaluator(labelCol=\"ARRIVAL_DELAY\", predictionCol=\"prediction\", metricName=\"rmse\")\n",
    "evaluator_mae = RegressionEvaluator(labelCol=\"ARRIVAL_DELAY\", predictionCol=\"prediction\", metricName=\"mae\")\n",
    "evaluator_r2 = RegressionEvaluator(labelCol=\"ARRIVAL_DELAY\", predictionCol=\"prediction\", metricName=\"r2\")\n",
    "\n",
    "rmse = evaluator_rmse.evaluate(predictions)\n",
    "mae = evaluator_mae.evaluate(predictions)\n",
    "r2 = evaluator_r2.evaluate(predictions)\n",
    "\n",
    "print(\"Root Mean Squared Error (RMSE) on test data =\", rmse)\n",
    "print(\"Mean Absolute Error (MAE) on test data =\", mae)\n",
    "print(\"R-squared (R²) on test data =\", r2)"
   ]
  },
  {
   "cell_type": "markdown",
   "metadata": {
    "application/vnd.databricks.v1+cell": {
     "cellMetadata": {
      "byteLimit": 2048000,
      "rowLimit": 10000
     },
     "inputWidgets": {},
     "nuid": "e1d44d39-c075-4b7e-9125-facc04afe016",
     "showTitle": false,
     "title": ""
    }
   },
   "source": [
    "Root Mean Squared Error (RMSE): The RMSE of 38.19 suggests that, on average, the predictions are off by approximately 38.19 minutes. This indicates a moderate level of error in the model's predictions.\n",
    "\n",
    "Mean Absolute Error (MAE): The MAE of 20.42 suggests that, on average, the absolute error of the predictions is about 20.42 minutes. This indicates that the model's predictions are reasonably close to the actual values but still have a noticeable error margin.\n",
    "\n",
    "R-squared (R²): The R² value of 0.25 indicates that only about 2.5% of the variance in departure delays is explained by the model. This suggests that the model has limited predictive power and there are likely other factors influencing departure delays that are not captured by the features used in this model.\n"
   ]
  },
  {
   "cell_type": "code",
   "execution_count": 0,
   "metadata": {
    "application/vnd.databricks.v1+cell": {
     "cellMetadata": {
      "byteLimit": 2048000,
      "rowLimit": 10000
     },
     "inputWidgets": {},
     "nuid": "8eae40b8-b306-460e-bac8-f686760e1449",
     "showTitle": false,
     "title": ""
    }
   },
   "outputs": [],
   "source": [
    "spark = (SparkSession\n",
    ".builder\n",
    ".appName(\"DecisionTreeRegressorTrain\")\n",
    ".getOrCreate()\n",
    ")"
   ]
  },
  {
   "cell_type": "code",
   "execution_count": 0,
   "metadata": {
    "application/vnd.databricks.v1+cell": {
     "cellMetadata": {
      "byteLimit": 2048000,
      "rowLimit": 10000
     },
     "inputWidgets": {},
     "nuid": "2ec9a002-099b-4d56-b591-8f9cf278b149",
     "showTitle": false,
     "title": ""
    }
   },
   "outputs": [],
   "source": [
    "from pyspark.ml.regression import DecisionTreeRegressor\n",
    "from pyspark.ml.evaluation import RegressionEvaluator\n",
    "\n",
    "# Initialize the DecisionTreeRegressor\n",
    "dt = DecisionTreeRegressor(featuresCol=\"features\", labelCol=\"ARRIVAL_DELAY\", maxBins=700, seed=42)\n",
    "\n",
    "# Train the model\n",
    "model = dt.fit(train_df)\n",
    "\n"
   ]
  },
  {
   "cell_type": "code",
   "execution_count": 0,
   "metadata": {
    "application/vnd.databricks.v1+cell": {
     "cellMetadata": {
      "byteLimit": 2048000,
      "rowLimit": 10000
     },
     "inputWidgets": {},
     "nuid": "63483919-1a37-4423-b1f4-dc7e635e7956",
     "showTitle": false,
     "title": ""
    }
   },
   "outputs": [],
   "source": [
    "spark = (SparkSession\n",
    ".builder\n",
    ".appName(\"DecisionTreeRegressorEval\")\n",
    ".getOrCreate()\n",
    ")"
   ]
  },
  {
   "cell_type": "code",
   "execution_count": 0,
   "metadata": {
    "application/vnd.databricks.v1+cell": {
     "cellMetadata": {
      "byteLimit": 2048000,
      "rowLimit": 10000
     },
     "inputWidgets": {},
     "nuid": "7c925a5c-5f38-4aa0-a8cc-52eaffc52281",
     "showTitle": false,
     "title": ""
    }
   },
   "outputs": [
    {
     "output_type": "stream",
     "name": "stdout",
     "output_type": "stream",
     "text": [
      "Root Mean Squared Error (RMSE) on test data = 38.22183150805192\nMean Absolute Error (MAE) on test data = 20.4839290353966\nR-squared (R²) on test data = 0.024200379583568576\n"
     ]
    }
   ],
   "source": [
    "\n",
    "# Make predictions\n",
    "predictions = model.transform(test_df)\n",
    "\n",
    "# Evaluate the model\n",
    "evaluator_rmse = RegressionEvaluator(labelCol=\"ARRIVAL_DELAY\", predictionCol=\"prediction\", metricName=\"rmse\")\n",
    "evaluator_mae = RegressionEvaluator(labelCol=\"ARRIVAL_DELAY\", predictionCol=\"prediction\", metricName=\"mae\")\n",
    "evaluator_r2 = RegressionEvaluator(labelCol=\"ARRIVAL_DELAY\", predictionCol=\"prediction\", metricName=\"r2\")\n",
    "\n",
    "rmse = evaluator_rmse.evaluate(predictions)\n",
    "mae = evaluator_mae.evaluate(predictions)\n",
    "r2 = evaluator_r2.evaluate(predictions)\n",
    "\n",
    "print(\"Root Mean Squared Error (RMSE) on test data =\", rmse)\n",
    "print(\"Mean Absolute Error (MAE) on test data =\", mae)\n",
    "print(\"R-squared (R²) on test data =\", r2)"
   ]
  },
  {
   "cell_type": "markdown",
   "metadata": {
    "application/vnd.databricks.v1+cell": {
     "cellMetadata": {
      "byteLimit": 2048000,
      "rowLimit": 10000
     },
     "inputWidgets": {},
     "nuid": "cb377325-76aa-42fe-956a-f447cac334bf",
     "showTitle": false,
     "title": ""
    }
   },
   "source": [
    "Root Mean Squared Error (RMSE): The RMSE of 38.22 suggests that, on average, the predictions are off by approximately 36.81 minutes. This indicates a moderate level of error in the model's predictions.\n",
    "\n",
    "Mean Absolute Error (MAE): The MAE of 20.48 suggests that, on average, the absolute error of the predictions is about 18.03 minutes. This indicates that the model's predictions are reasonably close to the actual values but still have a noticeable error margin.\n",
    "\n",
    "R-squared (R²): The R² value of 0.024 indicates that only about 2.4% of the variance in departure delays is explained by the model. This suggests that the model has limited predictive power and there are likely other factors influencing departure delays that are not captured by the features used in this model."
   ]
  },
  {
   "cell_type": "code",
   "execution_count": 0,
   "metadata": {
    "application/vnd.databricks.v1+cell": {
     "cellMetadata": {
      "byteLimit": 2048000,
      "rowLimit": 10000
     },
     "inputWidgets": {},
     "nuid": "9c896115-ecf6-4af9-92ac-abee0fb7821f",
     "showTitle": false,
     "title": ""
    }
   },
   "outputs": [
    {
     "output_type": "display_data",
     "data": {
      "image/png": "[encoded data removed]"
     },
     "metadata": {
      "application/vnd.databricks.v1+output": {
       "addedWidgets": {},
       "arguments": {},
       "data": "data:image/png;base64,iVBORw0KGgoAAAANSUhEUgAAAY0AAAEcCAYAAAA7neg3AAAAOXRFWHRTb2Z0d2FyZQBNYXRwbG90bGliIHZlcnNpb24zLjUuMSwgaHR0cHM6Ly9tYXRwbG90bGliLm9yZy/YYfK9AAAACXBIWXMAAAsTAAALEwEAmpwYAAA9sElEQVR4nO3deVxN+f8H8FfbLaGamiSyTV8to0GKUFniS6GFmbGN3TAzjN2QkLGEkn2QZb4M4zuGwW0iy9jXmGRrDLIMQ4kkWm+3e8/vD7/O19V2aupWM6/n49Hj0dk+533O557zPp+z6giCIICIiEgC3coOgIiIqg8mDSIikoxJg4iIJGPSICIiyZg0iIhIMiYNIiKSjEmD/jEGDx6MXbt2VXYYxUpNTYW3tzdycnIqOxTRzZs30b9//8oOo8rz8vLCuXPnShzv0aNHsLe3R15enhaiKn9MGhJ4eXmhefPmcHZ2hru7OwIDA5GZmfmXyw0MDMTy5cuLHcfe3h7t2rXT+IEplUq0a9cO9vb2fzmG0srNzcXixYvRoUMHODs7w8vLCyEhIVqPo7ytXr0azZo1g7Ozs/jn6uqq9Tg2bNiAPn36wMjICMDrRPfBBx/A2dkZbm5u+PLLL/H06VONuO3t7fHdd99plPPdd9/B3t4eq1evFvtFRETAy8sLzs7O6NChAyZOnCgOe3M++X+ff/45AMDBwQG1a9fGsWPHSow/MDAQ77//vkaMVU1gYCDs7e1x5MgRjf4LFy6Evb099uzZU0mRVQ9MGhJFRETg8uXLkMvluHHjBjZs2KC1eZuYmODUqVNi96lTp2BiYqK1+b9pw4YNiI+Px65duxAXF4etW7eiWbNmWo+jIo7SfHx8cPnyZfEvNjZW8rxLG09h4+fm5mLv3r3w8/PT6B8cHIzLly/jl19+QVZWFkJDQzWGN27cGJGRkRr95HI5GjduLHbv3bsXkZGR2LJlCy5fvozdu3ejXbt2hc4n/y8iIkIc5uvrix9//LHYZcrKysKhQ4dQu3Zt/Pzzz8WOWxRtHX2/vc7y8vJw4MABNGzYUCvzr86YNErJ0tISHh4e+P3338V+R48eRc+ePeHq6orBgwfj7t274rC7d+9i8ODBcHV1Rc+ePXH06FEAwI8//oioqCh8++23Gkd1hfH394dcLhe7IyMjERAQoDFOeno6goKC4OHhAU9PTyxfvhwqlQoA8PDhQwwZMgRubm5wc3PDlClT8OrVK3FaLy8vfPvtt/D19YWLiwsmTpwIhUJRaCzXr19H165dYWVlBR0dHdjY2GjEcuPGDfTu3RvOzs6YOHEiJk2aJLam9uzZgwEDBmiUZ29vjwcPHgAATpw4gYCAALRq1QodO3bUOErOb9Lv2rULnTp1wtChQwEAP/30E3x8fNC6dWuMHDkSjx8/Fqc5e/YsvL294eLignnz5uGvvPzA3t4e27dvR7du3dCtWzdcuHABHTp0wIYNG+Du7o4ZM2YgNzcXISEh8PDwgIeHB0JCQpCbmwsAhY7/tqtXr8LExAR169YtNAYTExN06dIFN2/e1Oj/wQcfIDs7GwkJCQCAhIQEKBQKfPDBB+I4169fh4eHh7hTtLS0RL9+/SQvv5ubG86fPy8uT2EOHz4MExMTjBkzRuP3CgBpaWmYMWMGPDw80Lp1a4wZMwZA4euluPWYmpqKzz77DK6urmjTpg0GDhwItVoN4PUBjaenJ5ydndG9e3ecP3++yFi9vLxw6dIlvHz5EgBw+vRp2Nvb49133xXHUavVWLt2LTp37ox27dph2rRpSE9PF4fL5XJ07twZbm5uWLdunUb5arUaGzZsQNeuXeHm5oYJEyYgLS2t0Fj27NmDLl26iC33siZcbWHSKKUnT57g9OnT4sZ3//59TJkyBUFBQTh//jw6dOiAzz//HLm5uVAqlfj888/h7u6Oc+fOYdasWZg6dSru3buHfv36wdfXFyNHjixwVPe2rl27IjY2Fq9evcLLly8RGxuLLl26aIwTGBgIfX19HD58GHK5HGfPnhXP3wuCgM8++wynT5/GgQMH8OTJE40dMgAcOHAAmzZtwtGjR3Hr1q0im+gtWrTAli1bsH37dty6dUtjR5ybm4uxY8fC398fFy9ehLe3Nw4fPix53daoUQOhoaGIjY3F+vXr8cMPPxQ4hfDrr78iOjoa3377LY4cOYL169fjm2++wfnz5+Hi4oIpU6YAeL1z+fLLLzFx4kTExMSgYcOGiIuLkxxLYY4cOYKdO3ciOjoaAJCSkoKXL1/i+PHjmD9/PtatW4erV68iMjISP//8M65fv461a9eK0789/ttu376NJk2aFDn/Fy9e4Jdffin0aPjNA4u9e/fC399fY3iLFi0QGRmJTZs24fr16+IBhVRWVlbQ19fHvXv3ihxn79696NmzJ3r27Il79+4hPj5eHDZt2jRkZ2dj//79OHfuHIYNGyYOK8163Lx5M6ysrHD+/HmcPXsWkydPho6ODu7du4ft27fjp59+wuXLl/Htt9+ifv36RcYqk8nQpUsX7N+/H8DrBPD2gdiePXuwd+9ebN26FUeOHEFWVhbmzZsHALhz5w7mzp2LsLAwnD59GmlpaXjy5Ik47bZt23DkyBF8//33OH36NExNTcVp35SVlYUFCxZg48aNuHz5Mnbs2AFHR8eiK6IKYNKQaOzYsXB2dkbHjh1hbm6O8ePHAwCio6PRsWNHuLu7w8DAACNHjkROTg4uX76Mq1evIisrC6NHj4ZMJkO7du3QuXNn8YcqlaGhITp37ozo6GhER0fDy8sLhoaG4vCUlBScPHkSQUFBMDY2hoWFBYYNGybOp1GjRnB3d4dMJoO5uTmGDx+OX3/9VWMegwcPhpWVFczMzNC5c2eNltSbPvvsM4waNQpRUVH48MMP4enpib179wJ4faSsVCoxdOhQGBgYwNvbW+NotyRubm6wt7eHrq4uHBwc0LNnT1y8eFFjnHHjxsHY2BhGRkbYsWMHRo8eDVtbW+jr6+Pzzz/H77//jsePH+PUqVNo2rQpvL29YWBggKFDh2ocRRbm4MGDcHV1Ff8GDx6sMXz06NEwMzMTrzfo6upi/PjxkMlkMDIyQlRUFMaOHQsLCwuYm5tj7NixGkeNb4//tlevXqFmzZoF+i9YsAAuLi5o27YtXrx4gdmzZxcYx8/PD/v374dSqUR0dHSBU1z+/v6YNWsWzpw5g8GDB6N9+/YFTrEuWLBAY/lXrFihMbxmzZoaR9pvSkxMxIULF+Dr64t3330X7dq1E5PY06dPcerUKcydOxempqYwMDBAmzZtilwvxa1HfX19PHv2DImJiTAwMICrqyt0dHSgp6eH3Nxc3L17F0qlEjY2NiWeavL390dkZCRevXqFX3/9FV27dtUYHhUVhWHDhqFBgwaoWbMmJk+ejOjoaOTl5eHgwYPo1KkTWrduDZlMhgkTJkBX93+70x07dmDSpEmoW7cuZDIZvvzySxw6dKjQ02+6urpISEhATk4O6tSpg6ZNmxYbd2XTr+wAqos1a9agffv2uHjxIqZMmYIXL17AxMQET58+Rb169cTxdHV1YW1tjeTkZOjr66Nu3boaP6Z69eohOTm51PMPCAjA0qVLAQBTp07VGJaYmIi8vDx4eHiI/dRqNaytrQG8TiohISGIjY1FZmYmBEEocE3E0tJS/L9GjRpFXsjU09PDJ598gk8++QQ5OTnYvXs3goKC0Lx5czx9+lQ8bfXm8kp19epVhIeHIyEhAUqlErm5ufD29tYY581TN4mJiVi4cKHGOX5BEJCcnIynT59qjKujoyOuj6J4e3sjPDy8yOFvT//OO+9oJO+3fwv16tXTWI9vj/82ExOTQm+wmDVrFj7++GPcunULn3/+OZ48eVJgvdarVw8NGzbEsmXL0KhRo0KX1c/PD35+flAqlThy5Ai++uorODo6wtPTU2M+RcnMzETt2rULHRYZGQlbW1vxKNnX1xeLFy/G9OnT8eTJE5iamsLU1LTQaUuzHkeOHIlvvvkGI0aMAAD069cPo0ePRqNGjRAUFITVq1fjzp078PDwQGBgIKysrIpcHldXV6SmpmLdunXo1KlTgUT+9OlTjdZK/fr1kZeXh+fPnxf4fRkbG8PMzEzsTkxMxNixYzW2fV1dXTx//lxjHsbGxli+fDn+85//YObMmWjVqhWmT58OW1vbIuOubGxplFKbNm3Qp08fcUdVp04dJCYmisMFQUBSUhKsrKxQp04dPHnyRDznCkAcBkBj51oSV1dXPHv2DCkpKXBxcdEYln80ExMTg9jYWMTGxiIuLk5saSxbtgw6OjqIiopCXFwclixZ8pfO7+czMjLCJ598AhMTE9y5cweWlpZITk7WKPvNdVOjRg2NW0mfPXumUd6UKVPQpUsXnDx5EpcuXUL//v0LxPnmOrO2tsbcuXPFZY6NjcW1a9fQqlUrWFpaapwuyK+Xv+Lt+nq7++3fQlJSEurUqVPk+G+zt7fHH3/8UezwL774osjrMwEBAdi8eXOB0yxvMzAwgI+PD+zs7MTrICVJTk6GUqnEe++9V+hwuVyOP//8E+7u7nB3d8eiRYvw4sULnDx5EnXr1sXLly81rqO9qTTrsVatWggMDMTRo0exbt06bN68Wbx24evrix9++AHHjx+Hjo5OsQcA+fz8/IpcZ3Xq1NG4RpaYmAh9fX1YWFiI23a+7OxsjWsWdevWxcaNGzV+m9evXy80iXl6emLz5s04c+YM3nvvvUJbklUJk0YZDB06FOfOncPNmzfh4+ODkydP4vz581AqlfjPf/4DmUwGZ2dnNG/eHEZGRti0aROUSiUuXLiAY8eOoUePHgAACwsLPHr0SNI8dXR0EBERgXXr1hW6kbm7u2Px4sXIyMiAWq3Gw4cPxVM7mZmZMDY2Ru3atZGcnIxNmzaVedm3bNmCCxcuICcnB3l5edi7dy8yMzPx/vvvo2XLltDX18fWrVuhVCpx+PBhXL9+XZzWwcEBCQkJ+P3336FQKApcV8nMzISpqSkMDQ1x7do17Nu3r9hY+vfvjw0bNog7vvT0dBw4cAAA0LFjRyQkJODw4cPIy8vD1q1bkZKSUubllqJnz55Yt24dUlNTkZqaijVr1sDX11fy9M2bN8erV6+KbYkGBAQgJSVFvKHiTT169MB//vMf+Pj4FBi2Z88enDhxQvx9nDx5Enfu3EHz5s0lxXbx4kW0bdsWMpmswLDLly/jzz//xK5duyCXyyGXy7Fv3z706tULkZGRqFOnDjp06IC5c+fi5cuXUCqVBU6Pvqm49Xj8+HE8ePAAgiCgdu3a0NPTE69p5F+ol8lkMDQ01DjKL8rgwYOxefNmtG7dusCwXr164bvvvsOff/6JzMxMLF++HD4+PtDX10f37t1x4sQJxMbGIjc3F6tWrdI4OBwwYABWrFghJp3U1NQC1+eA12cB8q+XyGQyGBsbS4q7MlXt6Kooc3Nz+Pv7Y82aNXjvvfewZMkSzJ8/H23btsXx48cREREBmUwGmUyGiIgInDp1Cm3bthUvnOU3PT/66CPcuXMHrq6u4t0kxWnatGmR5zvDwsKgVCrRo0cPtG7dGuPHjxeP5L/88kvcuHEDrq6uGD16NLp161bmZc+/WO3u7o62bdti+/btWL16NRo0aACZTIbVq1dj7969aNOmDaKjo/Hvf/9bnLZJkyYYO3Yshg0bhm7duhVoMc2ZMwerVq2Cs7Mz1qxZU+jO703//ve/8emnn2Ly5Mlo1aoVevXqJd6abG5ujpUrV2Lp0qVwc3PDgwcP0KpVq2LLO3DggMZzCs7OzgVOJxRnzJgxcHJyEk8DNWvWTFK95pPJZOjdu3eB22ffHmfIkCEaF9jzGRkZoX379oVeL6lVqxYiIiLQuXNnuLq6Ijw8HF9//bXGsyjz5s3TWPY+ffqIw6Kioop8wG/v3r3o0qUL7O3tYWlpKf4NHToUx48fR1paGsLCwqCvrw8fHx+0b9++wHMlbypuPT548ADDhw+Hs7Mz+vXrhwEDBqBt27bIzc0V69rDwwOpqamYPHlykfPIZ2Zmhnbt2hXaCvzwww/h5+eHQYMGoUuXLpDJZGIroGnTpggODsbUqVPh6elZ4K63IUOGwMvLCyNGjICzszP69u2La9euFZiHWq3Gli1b4OnpiTZt2uDXX3/F119/XWLclUmHH2GiipR/XnnSpEmVHUq1kJqaioEDB0Iulxe6868MN2/exJw5c0p8ToP+GXghnKgKMTc3x8GDBys7DA0ODg5MGCTi6SkiIpJM66envvnmG6xevRpRUVGws7PDlStXEBwcDIVCgfr162PJkiWwsLDQZkhERCSRVlsav/32G65cuSLe+6xWq/HVV18hODgYhw4dEi/QERFR1aS1axq5ubmYN28eli5diiFDhgAA4uPjYWhoKN7B0b9/f3Tp0gWLFi2SVKZarUZmZiYMDAxK9cwDEdE/mSAIUCqVqFmzZqlv8dVa0li5ciX8/PxgY2Mj9ktKStJ48tPc3BxqtRppaWkaT1cWJTMzE7dv366IcImI/vbs7OyKfMq/KFo5PXX58mXEx8dj4MCB5VqugYFBuZZHRPRPUpZ9qFZaGr/++ivu3r0rvpn1yZMnGDlyJAYPHqzxuoDU1FTo6upKamUA/3v9gJOTU7Hv9Pk7uHTpUoGH4ahqY51VP/+UOlMoFIiPjy/TaX2ttDRGjx6NM2fO4NixYzh27Bjq1q2Lb7/9Fp9++ilycnLEj93s2LGjwAvqiIio6qjUh/t0dXURFhaGOXPmaNxyS0REVVOlJI03vzXcqlUrREVFVUYYRPQ3oVar8ejRo0JfLV8a+vr6RX5LpjqqWbMmbGxsyvUliHyNCBFVeykpKdDR0RE/4lVWmZmZhX4IqzpSq9V4/PgxUlJSNF7R/1fxNSJEVO2lpaXBysqqyr9WXJt0dXVhZWUlfge93Mot19KIiCqBSqXiLfiFMDAwKPQTs38FkwYR/S3wrRAFVcQ6+Udf08hTC9DXrR4/tOp273h1Wrf091SW36CU6xlSy/Xy8hI/xqZUKjFixAh8/PHHuHDhAoYMGYIRI0Zg+vTp4viDBw/GxYsXERcXh5o1ayImJgZLly5Fbm4ucnNzYWlpiS1btkBXV1d8xq1WrVri9HPmzCnxQ2Pl4R+dNPR1dbD4csV+AvSfKtD53QoptzolIyb6yq2vitq+S/PbXrVqFezs7HD79m306dMHHTp0APD6K5ZHjx7F1KlToaenhz///BNZWVnidHl5eRg/fjy2bt0KBwcHAMCNGzc0Wg4zZ86El5dXOS2VdP/opEHVDxN9xamIRK+t+uqkq0JSllKjn7VxxV3jeHtehclTC3iWk4faWUrUtmmCWrVr48bDx8hW5MHAqAaa2P4LPx85gbaeHbBt50/w6uGL+Ph4PMnOgyo9G5mZmVDVNBXn9U7jpniS/fr6hEKlrrTTcbymQURUwa5fiYOp2TuwtXMQ+3n7BeDQvkgIgoBjhw6ii09PcVhtE1P0+vBjDPLviRkTxmL7fzbh6ZMkjTIXLFgAf39/8a8037P/K9jSICKqIHO+mgwIAh7/+RBfhy3VuMOrpWtrLF80H2eOH0UT23/B9K137k0MnIm+g4Yg7uIFXDx7Bv/dvAnrv/8RNo0aAQBmzZqFzp07a3NxALClQURUYeYuWYZt8n0IXrwEoV/PRurz/52q09HRQed/d8eS+V/D2y+g0Onr2TRArz4fYd7SFWjWvCXOnTqhncCLwaRBRFTBOv27O1zbtsf2/2zS6N/rw48xYOgItHH30OiflZWFX8+fRf7XuNPTXyEp8TGs//+rp5WJp6eIiLRg1LiJ+OyTvnjfqbnYz7KOFQYMG1FwZEGA/McdWBW6CDKZDCqVCv/26QlPr67iKAsWLMCKFSvE7vHjx4ufn6hITBpE9LekUKkr5I4whUotabwfow9rdNs0bIj9p2MAAF18ehQ6zYnL8eL/IStWF1n2yk1bKvTusOIwaRDR31KqQgVAVdlh/O3wmgYREUnGpEFERJIxaRDR30L+nUb0PxWxTpg0iKjaSxcMkJn2gonjDYIg4Pnz5zAyMirXcrV2IXzMmDF49OgRdHV1YWxsjNmzZ8PR0VF8E6ShoSEAYOrUqfD09NRWWET0N3BNbQY8S0PtlGeVHYrWpMn0ShzHyMgINjY25TpfrSWN0NBQ1K5dGwBw5MgRBAUFYe/evQD+9yZIIqKyUOro4ZJgAfyDGhqBjhXzJumSaO30VH7CAICMjAx+MIWIqBrS6nMaM2fOxNmzrx+N37Tpf4/TT506FYIgwMXFBZMnT4aJiYk2wyIiIom0mjRCQkIAAHK5HGFhYdi4cSO2b98Oa2tr5ObmIiQkBPPmzUN4eHipyo2Pjy95pEJUt4/kVDeXLl0q9zJZZxWrvOuM9VWxKmIbK0mlPBEeEBCA4OBgvHjxAtbW1gAAmUyGgQMH4osvvih1eU5OTuKFdKo6uMOoflhn1UtZ60uhUJT5YFsr1zQyMzORlPS/D4gcO3YMpqamMDQ0RHp6OoDXt4dFR0fD0dFRGyEREVEZaKWlkZ2djQkTJiA7Oxu6urowNTVFREQEnj9/jnHjxkGlUkGtVsPW1hZz5szRRkhERFQGWkka7777Lnbu3FnoMLlcro0QiIioHPCJcCIikoxJg4iIJGPSICIiyZg0iIhIMiYNIiKSjEmDiIgkY9IgIiLJmDSIiEgyJg0iIpKMSYOIiCRj0iAiIsmYNIiISDImDSIikoxJg4iIJGPSICIiyZg0iIhIMiYNIiKSjEmDiIgkY9IgIiLJtPKNcAAYM2YMHj16BF1dXRgbG2P27NlwdHTE/fv3ERgYiLS0NJiZmSE0NBSNGzfWVlhERFQKWksaoaGhqF27NgDgyJEjCAoKwt69ezFnzhwMHDgQ/v7+iIyMRHBwMLZu3aqtsIiIqBS0dnoqP2EAQEZGBnR0dPD8+XPcuHEDvXr1AgD06tULN27cQGpqqrbCIiKiUtBaSwMAZs6cibNnz0IQBGzatAlJSUmwsrKCnp4eAEBPTw916tRBUlISzM3NJZcbHx9fpnhcXFzKNB1Jc+nSpXIvk3VWscq7zlhfFasitrGSaDVphISEAADkcjnCwsIwYcKEcinXyckJhoaG5VIWlR/uMKof1ln1Utb6UigUZT7YrpS7pwICAnDhwgXUrVsXycnJUKlUAACVSoWnT5/C2tq6MsIiIqISaCVpZGZmIikpSew+duwYTE1NYWFhAUdHR+zbtw8AsG/fPjg6Opbq1BQREWmPVk5PZWdnY8KECcjOzoauri5MTU0REREBHR0dfP311wgMDMTatWthYmKC0NBQbYRERERloJWk8e6772Lnzp2FDrO1tcWuXbu0EQYREf1FfCKciIgkY9IgIiLJmDSIiEgyJg0iIpKMSYOIiCRj0iAiIsmYNIiISDImDSIikoxJg4iIJGPSICIiyZg0iIhIMiYNIiKSjEmDiIgkY9IgIiLJmDSIiEgyJg0iIpKMSYOIiCRj0iAiIsm08rnXFy9eYNq0aXj48CFkMhkaNWqEefPmwdzcHPb29rCzs4Ou7uv8FRYWBnt7e22ERUREpaSVpKGjo4NPP/0Ubm5uAIDQ0FCEh4dj4cKFAIAdO3agZs2a2giFiIj+Aq2cnjIzMxMTBgC0bNkSiYmJ2pg1ERGVI620NN6kVqvxww8/wMvLS+w3ePBgqFQqdOjQAePGjYNMJitVmfHx8WWKxcXFpUzTkTSXLl0q9zJZZxWrvOuM9VWxKmIbK4nWk8b8+fNhbGyMQYMGAQBOnDgBa2trZGRk4KuvvsKaNWswadKkUpXp5OQEQ0PDigiX/gLuMKof1ln1Utb6UigUZT7Y1urdU6GhoXjw4AFWrFghXvi2trYGANSqVQsff/wx4uLitBkSERGVgtaSxrJlyxAfH481a9aIp59evnyJnJwcAEBeXh4OHToER0dHbYVERESlpJXTUwkJCVi/fj0aN26M/v37AwBsbGzw6aefIjg4GDo6OsjLy4OzszMmTJigjZCIiKgMtJI0mjZtilu3bhU6LCoqShshEBFROeAT4UREJBmTBhERScakQUREkjFpEBGRZEwaREQkGZMGERFJxqRBRESSMWkQEZFkJSaNBQsWaHTv2rVLo3vcuHHlGxEREVVZJSaNPXv2aHQvWbJEo/vs2bPlGxEREVVZJSYNQRCK7SYion+OEpOGjo5Osd1ERPTPUeILC1UqFWJiYsQWRl5enka3Wq2u2AiJiKjKKDFpWFhYICgoSOw2MzPT6DY3N6+YyIiIqMopMWkcO3ZMG3EQEVE1UKbnNO7du4dffvkFjx8/Lu94iIioCisxaSxatAiRkZFit1wuR69evTB79mz4+Pjg5MmTFRogERFVHSUmjSNHjqB169Zi97JlyzBz5kzExMRg7ty5WLNmTYUGSEREVUeJSePFixeoV68eAOD27dtIS0vDxx9/DADw8/PDH3/8UeJMXrx4gVGjRqF79+7w9fXFl19+idTUVADAlStX4Ofnh+7du2PEiBF4/vz5X1gcIiKqSCUmjdq1ayMlJQUAEBsbCycnJ8hkMgCvb7+V8rCfjo4OPv30Uxw6dAhRUVFo0KABwsPDoVar8dVXXyE4OBiHDh2Cq6srwsPD/+IiERFRRSkxafj4+GDSpEnYunUrNm7ciF69eonDrl69igYNGpQ4EzMzM7i5uYndLVu2RGJiIuLj42FoaAhXV1cAQP/+/XHw4MGyLAcREWlBibfcTpkyBevXr8e5c+fQt29f9O/fXxz2+++/a3RLoVar8cMPP8DLywtJSUniqS/g9TMfarUaaWlpMDMzk1xmfHx8qWLI5+LiUqbpSJpLly6Ve5mss4pV3nXG+qpYFbGNlaTEpGFgYIAvv/yy0GFDhw4t9Qznz58PY2NjDBo0CL/88kuppy+Mk5MTDA0Ny6UsKj/cYVQ/rLPqpaz1pVAoynywXWLSkMvlJRYSEBAgaWahoaF48OABIiIioKurC2trayQmJorDU1NToaurW6pWBhERaU+JSSMwMBCNGjXCu+++W+hFbx0dHUlJY9myZYiPj8eGDRvEC+lOTk7IyclBbGwsXF1dsWPHDnh7e5d+KYiISCtKTBpDhgzBwYMHUbNmTQQEBKBr167iTl+qhIQErF+/Ho0bNxavgdjY2GDNmjUICwvDnDlzoFAoUL9+/QLf6yAioqqjxKQRFBSE6dOn4/Tp05DL5Vi4cCE6deqEgIAA8a6nkjRt2hS3bt0qdFirVq0QFRVVuqiJiKhSSHr3lJ6eHjp16oQVK1bgwIEDMDExwZAhQxATE1PR8RERURVSYksjX3p6Ovbv3w+5XI7U1FSMGTMGjo6OFRkbERFVMZJejS6XyxEXFwcvLy989dVXvC2PiOgfqsSkMWbMGDRp0gS+vr4wMjLCmTNncObMGY1xJkyYUGEBEhFR1VFi0ggICICOjg7S0tK0EA4REVVlJSaNxYsXFzns5s2bWLt2bbkGREREVVeJSSM7Oxvr16/HzZs30ahRI4wbNw4vXrzA4sWLce7cOclPgxMRUfVXYtKYN28ebty4AQ8PD5w6dQq3b9/GvXv3EBAQgPnz58Pc3FwbcRIRURVQYtI4ffo0IiMjYWFhgcGDB6NTp074/vvvJT/YR0REfx8lPtyXlZUFCwsLAEDdunVhbGzMhEFE9A9VYktDpVIhJiZG42WFb3e3a9euYqIjIqIqpcSkYWFhgaCgILHbzMxMo1tHRwdHjx6tmOiIiKhKkfREOBERESDxhYVEREQAkwYREZUCkwYREUnGpEFERJIxaRARkWSSP8L0V4WGhuLQoUN4/PgxoqKiYGdnBwDw8vKCTCaDoaEhAGDq1Knw9PTUVlhERFQKWksaXbp0wZAhQ/DJJ58UGLZq1SoxiRARUdWltaTBV48QEVV/WksaxZk6dSoEQYCLiwsmT54MExOTUk0fHx9fpvnys7UV69KlS+VeJuusYpV3nbG+KlZFbGMlqfSksX37dlhbWyM3NxchISGYN28ewsPDS1WGk5OTeE2Eqg7uMKof1ln1Utb6UigUZT7YrvS7p6ytrQEAMpkMAwcORFxcXCVHRERERanUpJGVlYX09HQAgCAIiI6OhqOjY2WGRERExdDa6akFCxbg8OHDSElJwfDhw2FmZoaIiAiMGzcOKpUKarUatra2mDNnjrZCIiKiUtJa0pg1axZmzZpVoL9cLtdWCERE9BdV+jUNIiKqPpg0iIhIMiYNIiKSjEmDiIgkY9IgIiLJmDSIiEgyJg0iIpKMSYOIiCRj0iAiIsmYNIiISDImDSIikoxJg4iIJGPSICIiyZg0iIhIMiYNIiKSjEmDiIgkY9IgIiLJmDSIiEgyrSSN0NBQeHl5wd7eHrdv3xb7379/H/369UP37t3Rr18//PHHH9oIh4iIykgrSaNLly7Yvn076tevr9F/zpw5GDhwIA4dOoSBAwciODhYG+EQEVEZaSVpuLq6wtraWqPf8+fPcePGDfTq1QsA0KtXL9y4cQOpqanaCImIiMpAv7JmnJSUBCsrK+jp6QEA9PT0UKdOHSQlJcHc3LxUZcXHx5cpBhcXlzJNR9JcunSp3MtknVWs8q4z1lfFqohtrCSVljTKk5OTEwwNDSs7DHoLdxjVD+useilrfSkUijIfbFfa3VPW1tZITk6GSqUCAKhUKjx9+rTAaSwiIqo6Ki1pWFhYwNHREfv27QMA7Nu3D46OjqU+NUVERNqjldNTCxYswOHDh5GSkoLhw4fDzMwM+/fvx9dff43AwECsXbsWJiYmCA0N1UY4RERURlpJGrNmzcKsWbMK9Le1tcWuXbu0EQIREZUDPhFORESSMWkQEZFkTBpERCQZkwYREUnGpEFERJIxaRARkWRMGkREJBmTBhERScakQUREkjFpEBGRZEwaREQkGZMGERFJxqRBRESSMWkQEZFkTBpERCQZkwYREUnGpEFERJIxaRARkWRa+dxrSby8vCCTyWBoaAgAmDp1Kjw9PSs5KiIieluVSBoAsGrVKtjZ2VV2GEREVAyeniIiIsmqTEtj6tSpEAQBLi4umDx5MkxMTCRPGx8fX6Z5uri4lGk6kubSpUvlXibrrGKVd52xvipWRWxjJakSSWP79u2wtrZGbm4uQkJCMG/ePISHh0ue3snJSbweQlUHdxjVD+useilrfSkUijIfbFeJ01PW1tYAAJlMhoEDByIuLq6SIyIiosJUetLIyspCeno6AEAQBERHR8PR0bGSoyIiosJU+ump58+fY9y4cVCpVFCr1bC1tcWcOXMqOywiIipEpSeNBg0aQC6XV3YYREQkQaWfniIiouqDSYOIiCRj0iAiIsmYNIiISDImDSIikoxJg4iIJGPSICIiyZg0iIhIMiYNIiKSjEmDiIgkY9IgIiLJmDSIiEgyJg0iIpKMSYOIiCRj0iAiIsmYNIiISDImDSIikoxJg4iIJKsSSeP+/fvo168funfvjn79+uGPP/6o7JCIiKgQVSJpzJkzBwMHDsShQ4cwcOBABAcHV3ZIRERUCP3KDuD58+e4ceMGNm/eDADo1asX5s+fj9TUVJibmxc7rSAIAIDc3Nwyz99IyCvztFQ0hUJRYWWzzipGRdUZ66ti/JX6yt9n5u9DS6PSk0ZSUhKsrKygp6cHANDT00OdOnWQlJRUYtJQKpUAgNu3b5d5/p5lnpKKEx//uMLKZp1VjIqqM9ZXxSiP+lIqlTAyMirVNJWeNP6KmjVrws7ODgYGBtDR0anscIiIqgVBEKBUKlGzZs1ST1vpScPa2hrJyclQqVTQ09ODSqXC06dPYW1tXeK0urq6qF27thaiJCL6eyltCyNfpV8It7CwgKOjI/bt2wcA2LdvHxwdHUs8NUVERNqnI5TlSkg5u3v3LgIDA/Hq1SuYmJggNDQU7733XmWHRUREb6kSSYOIiKqHSj89RURE1QeTBhERScakQUREkjFpEBGRZJX+nIa2eHl5ISIiAnZ2dhr9R40ahdmzZ6Nhw4aVFpdMJoNMJoNSqcSIESPw8ccfV0osJbl+/Tq2bNmCpUuXFjpcG8tSVD2W1YULFzB69Gg0btxY7Ddjxgy0bdu2XMovypEjR1CnTh00b9680OGBgYE4d+4c3nnnHeTk5MDDwwMzZ86Erm7FHOe9WXfZ2dn417/+hVGjRqFVq1ZlLvOHH36AQqHAsGHDihxn5cqVaNq0KXr06FHm+eS7desWpk2bBgB4+fIlMjIyUL9+fQBA37598cknn/zlebxpz549WLhwIerXrw+lUgkbGxuEhITA0tKyXOdT5Qj/EJ07dxZu3bpVqTEolcoC/d6M69atW0KzZs2EJ0+eVOg8K0pFL8vb8ygPMTExQu/evcs8fVnX7/Tp04Vt27ZJGp6eni507dpV2L9/f5nmVZi34357vR46dEhwcXERrly5Um7zFARByMvLK9fyirJ7925h3LhxhQ4rr23izXmo1Wph4sSJQnBwcLmULQiCoFKpBLVaXW7lSVXS+vnHtDSK8uaR6+DBg+Hk5IQrV67g6dOn8PHxwdSpUwEAT58+xYIFC5CYmAiFQoGePXvi888/BwCEhobi4sWLUCqVeOedd8Sjj0ePHuHDDz9Enz59EBMTg759+2LAgAFFxmJnZwcTExMkJyfDysoK9+7dw8KFC/HixQsolUoMHToUH374IQDg0KFDWL58OYyMjODt7Y3ly5cjLi4ONWvWhL29Pb788kucOHECnp6e+PTTT7Fo0SLcunULCoUCbm5umDFjBvT09PDNN99g3759MDQ0hI6ODrZu3QoDAwNMnz4dd+7cgb6+Ppo0aYKVK1fiwoULCA0NxZ49ewAAcrkc3377LQCgYcOGUKlUAF4fge3btw86OjoYOHAgLC0t4evrC7lcLr4vbPr06WjXrp1YB/7+/jh37hyePXuGESNGYNCgQQCA2NhYzJ07FwDQunVrjResXbt2DSEhIcjKyoKxsTFmzpyJ5s2bi+u9b9++OH36NHJychAeHo4dO3bg6tWrMDIywtq1a4s9IlSpVAgPD8fp06cBAJ6enpg6dSr09PQQGBgIPT093L9/H5mZmYiMjMTevXvx3//+FyqVCrVq1cLXX3+N9957D3FxcZg/fz7UajXy8vLwxRdfwNTUFMeOHcO5c+ewa9cuDB8+HAEBAUXGUqtWLTRr1gyJiYkAgIyMjCLr886dO5gxYways7Ph4OCAhw8f4osvvkDnzp0xePBgODg44OrVqzA1NcXGjRuxYcMGHD58GE+fPsW8efOwfPlyWFpaQldXF/r6+hg5ciTq1q2LGTNm4MyZM9i3bx/S0tJgZGQEa2trfP/999DR0cGECRMQGxsLQRDwzjvvYNu2bfj5559x9+5d3L17F9bW1oiJiYGlpSWMjIzwxRdfoFevXggMDISTkxMGDRqEzMxMLFiwANevXwcA+Pv7Y9SoUQBQ7LZZksK2wy5duhS5PRe33RVFR0cHrVu3xokTJ8R++etWpVLBysoK8+fPh6WlJdLT0xEUFISEhARYWVnBysoKFhYWmD59OlavXo2EhARkZGQgMTERP/74I65cuYJ169YhNzcXBgYGmDFjBlq2bIl79+6Jda1Wq9G7d2+MHDkSR44cwcqVK6GrqwuVSoXZs2fDzc0NDx48QHBwMFJTU6Gvr49JkyahQ4cOAFBgnzFx4sSiF1YrqasKKOoI9c3+gwYNEiZMmCCoVCrh1atXQps2bYT79+8LgiAIw4YNEy5evCgIgiAoFAphwIABwpkzZwRBEITnz5+L5e3cuVOYOHGiIAiC8Oeffwp2dnbFHiG+Of/Y2FihR48egkKhEJRKpdC7d2/hzp07giC8Ptrs1q2bcOfOHeHZs2casW3evFmws7MTMjIyBEEQBDs7O2H9+vXiPIKCgoS9e/cKgvD66GXSpEnCjz/+KLx48UJwcXERsrOzxXkolUrh8OHDwogRI8Tp09LSBEHQPCq/deuW4O7uLiQnJwuCIAjLly8XWrRoIdy6dUvYvXu30LJlS6Fbt26CQqEQZs6cKSxcuFA8arp7967g6empsQ4WL14srrOWLVsKGRkZgkKhEDw8PISYmBhBEARh//79gp2dnXDr1i1BoVAIHTt2FM6dOycIgiCcPXtW6Nixo6BQKMT1fvz4cUEQBGHjxo2Ci4uLcOPGDUEQBGHOnDnCsmXLxGVq3ry54OfnJ/j5+QkfffSRIAiCsH37dmHo0KGCQqEQFAqFMGTIEGH79u2CILxuBfTu3VvIzMwUBEEQfv31V2HUqFGCQqEQBEEQTpw4IfTr108QBEH4/PPPhaioKEEQXh+Nvnz5UixDaksjJSVF8Pb2Fn8LRdWnIAhC7969BblcLgiCIFy7dk1wcHAQjh07JgjC69/3Z599Jh5JyuVyYdasWYJKpRI6d+4sLF++XJg8ebIgCILg6+srRERECD4+PkJeXp6wfPlyYenSpeLvJSwsTFi8eLGgVCqFiRMnCh988IH4O968ebPw0UcfCatWrRImTJggODg4CAMGDChxPYSFhQnTpk0T1Gq1kJ6eLvTo0UM4ceKEGHtR22Zh3mwFFLYdFrU9F7fdFTcPhUIhfPbZZ2K9vLluBeH17yl/3S5atEgICgoSBEEQXrx4ofH7X7VqldCxY0dxn/LgwQOhb9++Qnp6uiAIgnD79m2hY8eOgiAIwvz584WIiAgxnvzt1NfXV4iLixME4XXLLn/ajz76SNi5c6cgCIKQkJAgtGnTRpzP2/uM4vzjWxpv8/b2Ft9pZWtri4cPH6JOnTq4ePEiUlNTxfEyMzNx9+5duLu749SpU/jvf/+LrKws5OVpvgba0NAQPj4+xc5z/PjxEAQBDx8+xMqVKyGTyXDnzh3cvXsXkydPFsdTKpW4d+8edHV18f7774vn4T/88EMsWrRIo8zevXuL/x87dgzXrl0TXz+fk5MDKysr1K5dGw0bNsS0adPg4eGBTp06oVatWnBwcMDdu3cxd+5ctGnTBp06dSoQ84ULF9CxY0fUqVMHANC/f39ERERg/PjxSE9PR1ZWFqZMmQKZTIYWLVogOjoaI0eORHJyMvT19ZGSkoJnz56JR/v557RtbGxgYmKCJ0+eQKlUokaNGnBzcxPHyf/Wyv3792FgYCC2Vtq3bw8DAwPcv38fNWvWhLGxsRh3s2bNULduXTg6Oord586dE5fF1tZWbD3lO3/+PHr37g2ZTAYA6NOnD44cOYKBAwcCeP07MTY2FtfvzZs3xes3giDg1atXAAA3NzesW7cODx8+hLu7O1q0aFHUz6CADRs24Mcff8T9+/cxYMAA2NraFlufGRkZuH37Nnx9fQEAH3zwAezt7TXK9PX1hb6+vlhOfHw8evfujeTkZOzfvx8WFhYAgLZt22L37t3IyMjA3bt3cebMGWRkZECpVMLDwwOGhoZo3rw59PX1cerUKTRr1ky8zjRkyBCEh4eL14UaNWqEbt26lbgezp8/j6CgIOjo6KBWrVro2bMnzp8/j44dO4rr/O1t881rUcV5czvMysoqcnu2srIqcrvLX/9vOnfuHPz9/fHo0SPY2tqK83hz3QIQW6DA621n1qxZAAAzMzN07dpVo8wOHTqIr1E6ffo0Hj58qHE9Ji8vDykpKWjdujWWLFmC7OxsuLm5ieu7bdu2WLRoEbp164YOHTrAzs4OGRkZ+P3338UW07/+9S84OjriypUr8PLyAqC5zygOk8ZbDA0Nxf/zX6CoVquho6ODn376CQYGBhrjP378GIsWLcJPP/2EBg0aIC4uTqPZXKNGjRLfwLtq1SrY2dnhwIEDmDFjBlq1aiU28yMjIwuMf/To0RKXI3+HBrzeia1duxYNGjQoMN7OnTsRFxeHmJgY9OnTB5s2bYKDgwP27duHmJgYnDp1CsuXL0dUVFSJ88xflvj4eOzYsUNcFj09PVy+fBnh4eHo2rUr1Go1WrRoofE9gMLWe2Gkvs04f2cPvH6x5ZvdxZUv1dvr98MPP8SECRMKjDds2DB4eXnh3LlzmD9/Ptzd3TFp0iRJ8xg9ejQGDRqEe/fuYcCAAfDw8EDHjh2LrM+MjAwAxa+jt+P+4osv8NFHH8HLywtr1qwRd/xBQUHIyMjAb7/9hgkTJkChUCAkJAStW7cWfy87d+7EzZs3S1wOY2Pjv7Qe8kn9jRTmze2wuO05ISGhyO2uMO3bt8eqVauQkZGBkSNHYuXKlZg2bZrGui2tt9886+npibCwsALjde/eHS1btsTZs2exceNG7N69G+Hh4QgKCsKtW7cQExODCRMmYPjw4ZJuNHjzt1Ec3nIrQa1ateDi4oINGzaI/ZKSkvDs2TNkZGTAwMAAlpaWUKvV2LFjR5nn4+PjA3d3d6xfvx5NmjSBkZER5HK5OPzu3bvIyMhAixYtcOPGDTx8+BAAsHfv3mLL9fLywoYNG8SNLDU1FX/++ScyMjKQmpqKNm3aYPz48bCzs0NCQgKePHkCPT09dO3aFTNmzEBqairS0tI0ynRzc8PJkyfx7NkzAK+Tz5tvzaxbt664LMDroyMbGxsAwO7duyV9OOu9995DTk4OYmNjAQAHDx4Uj+CbNGkCpVKJmJgYAK+PUvPy8tCkSZMSy5WiXbt24jUYpVIJuVyO9u3bFzqul5cXIiMj8eTJEwCvjyrj4+MBvG4RNWzYEP3798eQIUPE8/W1atVCenq6pFjee+89jB8/HsuXL4cgCEXWZ61atdC0aVPx5Z+//fZbsd+a8fLywn//+1+8fPkSwOsj6vwksH37dhw+fBjz5s2Dn58fzMzMsGnTJiQlJaFNmzYYMWIEbGxskJCQgI4dO+K3337DnTt3AADff/893n//fY1EXdR6eHud7969G4IgICMjA9HR0UWu87+iuO25uO2upDLnzp2LH374AU+fPi2wbnNzc8V126ZNGzEpvXr1qtiDQHd3d5w+fRoJCQliv2vXrgEAHjx4AEtLS/Tp0wdjx44V1+m9e/dgb2+PoUOHws/PD9evX0etWrXg6Ogo7ivu3r2LmzdvomXLlhLX2v/8o1oaw4cPFz/2BEDy0TMAhIeHY9GiRWLTv2bNmggJCYG9vT28vb3Ro0cPvPPOO+jYsaO4kyuLKVOmoE+fPhg1ahQiIiKwcOFCfPvtt1Cr1bCwsMCKFSvw7rvv4uuvv8aoUaNQo0YNdOrUCQYGBqhRo0ahZQYFBWHJkiXw9/eHjo4ODAwMEBQUBAMDA4wbNw45OTkQBAHvv/8+unXrhpiYGPG2WrVajdGjR8PKykrj2+12dnaYOnUqRowYAQBo0KABTE1NC12WcePGwcHBAWPGjIGpqSk8PT1hZmZW4rqQyWRYtmyZxoXwevXqicNWrVqlcSE8/9ReeejXrx8ePnwoNtk9PDzQt2/fQsdt3bo1Jk6ciC+++AIqlQpKpRLe3t5wcnLCtm3bcOHCBRgYGEAmk4mnJfz8/DBjxgwcPHiwxAvh+fFs3boVR48eLbI+GzRogNDQUAQFBWHDhg2ws7ODnZ1dkZ8PCAgIQFpaGgYNGoTk5GT069cP5ubmMDQ0RFZWFkxNTREcHAwTExOEh4dj+/bt6Nmzp3gzQosWLdCtWzd07NgRqamp6NOnDwRBgLm5ObZu3Yqff/5ZnFdR6+FNY8aMwfz588VtzM/PT7xQW96K2p4tLS2L3O5K4uDgAG9vb2zcuBEzZ84U1y3wulU3YMAAODg4YOzYsZgxYwa8vb1haWkJJycn8dTV2xo3bowlS5Zg5syZyMnJgVKpRKtWrdC8eXMcOHAAUVFR4veEgoKCAABLly7FgwcPoKenBxMTE4SEhIjLHBwcjC1btkBfXx9hYWFleps4X1hYTWVkZIg/tN27d+Onn37CDz/8UMlRUWXLzMyEsbExdHR0cOfOHQwePBgHDx4skNCp8iiVSqjVahgaGiIjIwMDBgzAjBkzKqRVVRH+US2Nv5Nt27bh4MGDUKlUMDU1xYIFCyo7JKoCLl++jLCwMLE1MH/+fCaMKubVq1cYNWoUVCoVFAoFevXqVW0SBsCWBhERlQIvhBMRkWRMGkREJBmTBhERScakQVRBHj16BHt7+wJvCSjMnj17in0vGVFVwaRB9P+8vLzg5OSk8XoJ4PXzDPb29nj06FElRUZUdTBpEL2hfv362L9/v9h969YtZGdnV2JERFULkwbRG/z9/TVeISGXyzWe1k5PT8e0adPQtm1bdO7cGWvXroVarQbw+vUhoaGhcHNzQ5cuXXDy5EmNsvNfie3h4QFPT08sX7680PcnCYKAhQsXol27dmjVqhV8fX2LfR0IkTYxaRC9oWXLluKbXVUqFfbv3w8/Pz9x+Pz585Geno4jR45g27ZtiIyMxO7duwG8fv/W8ePHIZfLsXv3bhw8eFCj7MDAQOjr6+Pw4cOQy+U4e/Ysdu3aVSCGM2fOIDY2FocOHcKlS5ewYsUKSa9dIdIGJg2it+S3Ns6ePQtbW1tYWVkBeP0erujoaEyZMgW1atWCjY0Nhg8fLr5j6cCBAxg6dCisra1hZmaGzz77TCwzJSUFJ0+eRFBQEIyNjWFhYYFhw4ZpnArLp6+vj8zMTNy7dw+CIMDW1lZ8BT1RZeNrRIje4u/vj0GDBuHRo0fw9/cX++d/yS3/pYkAUK9ePSQnJwN4/XVHa2trjWH5EhMTkZeXBw8PD7GfWq3WGD9fu3bt8Mknn2DevHl4/PgxunXrhunTpxf5UjsibWJLg+gt9evXh42NDU6ePIlu3bqJ/d955x0YGBiIn10FXr9SO78lYmlpiaSkJI1h+erWrQuZTIaYmBjExsYiNjYWcXFxhbY0gNcfMtqzZw+io6Pxxx9/YNOmTeW9mERlwqRBVIiQkBB89913Gh+m0dXVFb/HnpGRgcePH2Pz5s3iNQ8fHx9s27YNT548wcuXLzW+11CnTh24u7tj8eLFyMjIgFqtxsOHD3Hx4sUC87527RquXr0qfrlQJpNBV5ebKlUN/CUSFaJhw4b44IMPCvSfPXs2atSoga5du2LgwIHo1auX+AnNvn37wsPDA/7+/ujdu7dGKwUAwsLCoFQq0aNHD7Ru3Rrjx48XP2L1pszMTMyaNQtt2rRB586dYWZmhpEjR1bMghKVEt9yS0REkrGlQUREkjFpEBGRZEwaREQkGZMGERFJxqRBRESSMWkQEZFkTBpERCQZkwYREUnGpEFERJL9H2noZ5V18YoPAAAAAElFTkSuQmCC\n",
       "datasetInfos": [],
       "metadata": {},
       "removedWidgets": [],
       "type": "image"
      }
     },
     "output_type": "display_data"
    },
    {
     "output_type": "display_data",
     "data": {
      "image/png": "[encoded data removed]"
     },
     "metadata": {
      "application/vnd.databricks.v1+output": {
       "addedWidgets": {},
       "arguments": {},
       "data": "data:image/png;base64,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\n",
       "datasetInfos": [],
       "metadata": {},
       "removedWidgets": [],
       "type": "image"
      }
     },
     "output_type": "display_data"
    },
    {
     "output_type": "display_data",
     "data": {
      "image/png": "[encoded data removed]"
     },
     "metadata": {
      "application/vnd.databricks.v1+output": {
       "addedWidgets": {},
       "arguments": {},
       "data": "data:image/png;base64,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\n",
       "datasetInfos": [],
       "metadata": {},
       "removedWidgets": [],
       "type": "image"
      }
     },
     "output_type": "display_data"
    }
   ],
   "source": [
    "import matplotlib.pyplot as plt\n",
    "\n",
    "models = [\"Linear Regression\", \"RandomForest Regressor\", \"Decision Tree Regressor\"]\n",
    "rmse_values = [38.32, 38.19, 38.22]  \n",
    "mae_values = [20.67, 20.42, 20.48]  \n",
    "r2_values = [0.011, 0.025, 0.0242]    \n",
    "\n",
    "# Plotting RMSE\n",
    "plt.bar(models, rmse_values, color='skyblue', label='RMSE')\n",
    "plt.xlabel('Models')\n",
    "plt.ylabel('RMSE')\n",
    "plt.title('Root Mean Squared Error (RMSE) Across Models')\n",
    "plt.legend()\n",
    "plt.show()\n",
    "\n",
    "# Plotting MAE\n",
    "plt.bar(models, mae_values, color='lightgreen', label='MAE')\n",
    "plt.xlabel('Models')\n",
    "plt.ylabel('MAE')\n",
    "plt.title('Mean Absolute Error (MAE) Across Models')\n",
    "plt.legend()\n",
    "plt.show()\n",
    "\n",
    "# Plotting R-squared\n",
    "plt.bar(models, r2_values, color='salmon', label='R-squared')\n",
    "plt.xlabel('Models')\n",
    "plt.ylabel('R-squared')\n",
    "plt.title('R-squared (R²) Across Models')\n",
    "plt.legend()\n",
    "plt.show()\n"
   ]
  },
  {
   "cell_type": "markdown",
   "metadata": {
    "application/vnd.databricks.v1+cell": {
     "cellMetadata": {
      "byteLimit": 2048000,
      "rowLimit": 10000
     },
     "inputWidgets": {},
     "nuid": "1539c60d-ddfe-47b6-8bd0-5589033af6ed",
     "showTitle": false,
     "title": ""
    }
   },
   "source": [
    "Here We have compared the root mean square error, Mean Absolute Error and R-squared Across all three models \n",
    "we can see that:-\n",
    "Root Mean Squared Error (RMSE):\n",
    "The RMSE plot shows that all three models have relatively similar RMSE values around 38. Lower RMSE values indicate better model performance, so based on this metric alone, the random forest performs slightly better.\n",
    "\n",
    "Mean Absolute Error (MAE):\n",
    "The MAE plot shows that all three models have similar MAE values around 20. Like RMSE, lower MAE values are better, and here too Random Forest Regressor performs slightly better.\n",
    "\n",
    "R-squared (R^2):\n",
    "The R^2 plot shows the R-squared values for the models. R-squared ranges from 0 to 1, with higher values indicating better model fit. In this case, the random forest Regressor model has the highest R^2 value, around 0.025 followed by the Decision Tree Regressor and then Linear regression model at the least."
   ]
  }
 ],
 "metadata": {
  "application/vnd.databricks.v1+notebook": {
   "dashboards": [],
   "environmentMetadata": null,
   "language": "python",
   "notebookMetadata": {
    "pythonIndentUnit": 4
   },
   "notebookName": "ML",
   "widgets": {}
  }
 },
 "nbformat": 4,
 "nbformat_minor": 0
}
